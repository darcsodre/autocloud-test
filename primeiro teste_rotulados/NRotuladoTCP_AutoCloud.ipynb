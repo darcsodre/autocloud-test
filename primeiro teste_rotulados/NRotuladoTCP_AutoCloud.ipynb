{
  "cells": [
    {
      "cell_type": "markdown",
      "metadata": {},
      "source": [
        "Este código implementa o algoritmo AutoCloud, uma abordagem baseada em aprendizado não supervisionado para a detecção de padrões e agrupamento de dados. Primeiro teste, dados nao rotulados"
      ]
    },
    {
      "cell_type": "code",
      "execution_count": 18,
      "metadata": {
        "id": "2BBCVTvDfH1c"
      },
      "outputs": [],
      "source": [
        "import pandas as pd\n",
        "import numpy as np\n",
        "import matplotlib.pyplot as plt\n",
        "import seaborn as sns\n",
        "import matplotlib.pyplot as plt\n",
        "from matplotlib.lines import Line2D\n",
        "from sklearn.preprocessing import StandardScaler\n",
        "from mpl_toolkits.mplot3d import Axes3D\n",
        "from plotly.subplots import make_subplots\n",
        "from plotly.offline import plot\n",
        "import plotly.graph_objects as go\n",
        "from scipy.spatial import cKDTree  # Para encontrar o centróide mais próximo\n"
      ]
    },
    {
      "cell_type": "code",
      "execution_count": 19,
      "metadata": {
        "id": "-VyEywC73IO5"
      },
      "outputs": [],
      "source": [
        "listaCor =np.array(['#4C72B0','#DD8452','#55A868','#C44E52','#8172B3','#937860','#DA8BC3','#8C8C8C','#CCB974','#64B5CD'])"
      ]
    },
    {
      "cell_type": "code",
      "execution_count": 20,
      "metadata": {
        "id": "YZJVjEFmfH1h"
      },
      "outputs": [],
      "source": [
        "class DataCloud:\n",
        "\tN=0 #Conta o número total de nuvens de dados criadas.\n",
        "\tdef __init__(self,x): #É chamado quando uma nova instância de DataCloud é criada.\n",
        "\t\tself.n=1 #Inicializa o n de pontos na nuvem como 1, pois estamos adicionando o primeiro ponto x.\n",
        "\t\tself.mean=x #Inicializa a média da nuvem como o valor do primeiro ponto x. A média é o centro da nuvem.\n",
        "\t\tself.variance=0 #Inicializa a variância como 0, pois com apenas um ponto, não há dispersão.\n",
        "\t\tself.pertinency=1 #Inicializa o grau de pertinência como 1, indicando que o ponto pertence completamente à nuvem.\n",
        "\t\tDataCloud.N+=1 #Incrementa o contador de nuvens de dados criadas.\n",
        "\tdef addDataClaud(self,x):\n",
        "\t\tself.n=2 #Define o n de pontos na nuvem como 2, assumindo que estamos adicionando um segundo ponto\n",
        "\t\tself.mean=(self.mean+x)/2 #Atualiza a média da nuvem. A nova média é a média aritmética entre a média anterior e o novo ponto x.\n",
        "\t\tself.variance=((np.linalg.norm(self.mean-x))**2) #Atualiza a variância da nuvem. A variância é calculada como o quadrado da distância entre a nova média e o novo ponto x.\n",
        "\tdef updateDataCloud(self,n,mean,variance): #Este método atualiza os atributos da nuvem de dados com novos valores.\n",
        "\t\tself.n=n #Atualiza o número de pontos na nuvem.\n",
        "\t\tself.mean=mean #Atualiza a média da nuvem.\n",
        "\t\tself.variance=variance #Atualiza a variância da nuvem.\n"
      ]
    },
    {
      "cell_type": "code",
      "execution_count": 21,
      "metadata": {
        "id": "SqqyO6VBfH1m"
      },
      "outputs": [],
      "source": [
        "class AutoCloud:\n",
        "\tc= np.array([DataCloud(0)],dtype=DataCloud)\n",
        "\talfa= np.array([0.0],dtype=float)\n",
        "\tintersection = np.zeros((1,1),dtype=int)\n",
        "\tlistIntersection = np.zeros((1),dtype=int)\n",
        "\tmatrixIntersection = np.zeros((1,1),dtype=int)\n",
        "\trelevanceList = np.zeros((1),dtype=int)\n",
        "\tk=1\n",
        "\tdef __init__(self, m):\n",
        "\t\tAutoCloud.m = m\n",
        "\t\tAutoCloud.c= np.array([DataCloud(0)],dtype=DataCloud)\n",
        "\t\tAutoCloud.alfa= np.array([0.0],dtype=float)\n",
        "\t\tAutoCloud.intersection = np.zeros((1,1),dtype=int)\n",
        "\t\tAutoCloud.listIntersection = np.zeros((1),dtype=int)\n",
        "\t\tAutoCloud.relevanceList = np.zeros((1),dtype=int)\n",
        "\t\tAutoCloud.matrixIntersection = np.zeros((1,1),dtype=int)\n",
        "\t\tAutoCloud.classIndex = []\n",
        "\t\tAutoCloud.k = 1\n",
        "\n",
        "\tdef mergeClouds(self):\n",
        "\t\ti=0\n",
        "\t\twhile(i<len(AutoCloud.listIntersection)-1):\n",
        "\t\t\tmerge=False\n",
        "\t\t\tj=i+1\n",
        "\t\t\twhile(j<len(AutoCloud.listIntersection)):\n",
        "\t\t\t\t#print(\"i\",i,\"j\",j,\"l\",np.size(AutoCloud.listIntersection),\"m\",np.size(AutoCloud.matrixIntersection),\"c\",np.size(AutoCloud.c))\n",
        "\t\t\t\tif(AutoCloud.listIntersection[i] == 1 and AutoCloud.listIntersection[j] == 1):\n",
        "\t\t\t\t\tAutoCloud.matrixIntersection[i,j] = AutoCloud.matrixIntersection[i,j] + 1;\n",
        "\t\t\t\tnI = AutoCloud.c[i].n\n",
        "\t\t\t\tnJ = AutoCloud.c[j].n\n",
        "\t\t\t\tmeanI = AutoCloud.c[i].mean\n",
        "\t\t\t\tmeanJ = AutoCloud.c[j].mean\n",
        "\t\t\t\tvarianceI = AutoCloud.c[i].variance\n",
        "\t\t\t\tvarianceJ = AutoCloud.c[j].variance\n",
        "\t\t\t\tnIntersc = AutoCloud.matrixIntersection[i,j]\n",
        "\t\t\t\tif (nIntersc > (nI - nIntersc) or nIntersc > (nJ - nIntersc)):\n",
        "\t\t\t\t\tprint(f'na iteracao {self.k} houve fusao de clouds')\n",
        "\t\t\t\t\tmerge = True\n",
        "\t\t\t\t\t#update values\n",
        "\t\t\t\t\tn = nI + nJ - nIntersc\n",
        "\t\t\t\t\tmean = ((nI * meanI) + (nJ * meanJ))/(nI + nJ)\n",
        "\t\t\t\t\tvariance = ((nI - 1) * varianceI + (nJ - 1) * varianceJ)/(nI + nJ - 2)\n",
        "\t\t\t\t\tnewCloud = DataCloud(mean)\n",
        "\t\t\t\t\tnewCloud.updateDataCloud(n,mean,variance)\n",
        "\t\t\t\t\t#atualizando lista de interseção\n",
        "\t\t\t\t\tAutoCloud.listIntersection = np.concatenate((AutoCloud.listIntersection[0 : i], np.array([1]), AutoCloud.listIntersection[i + 1 : j],AutoCloud.listIntersection[j + 1 : np.size(AutoCloud.listIntersection)]),axis=None)\n",
        "\t\t\t\t\t#atualizando lista de data clouds\n",
        "\t\t\t\t\tAutoCloud.c = np.concatenate((AutoCloud.c[0 : i ], np.array([newCloud]), AutoCloud.c[i + 1 : j],AutoCloud.c[j + 1 : np.size(AutoCloud.c)]),axis=None)\n",
        "\t\t\t\t\t#update  intersection matrix\n",
        "\t\t\t\t\tM0 = AutoCloud.matrixIntersection\n",
        "\t\t\t\t\t#Remover linhas\n",
        "\t\t\t\t\tM1=np.concatenate((M0[0 : i , :],np.zeros((1,len(M0))),M0[i + 1 : j, :],M0[j + 1 : len(M0), :]))\n",
        "\t\t\t\t\t#remover colunas\n",
        "\t\t\t\t\tM1=np.concatenate((M1[:, 0 : i ],np.zeros((len(M1),1)),M1[:, i+1 : j],M1[:, j+1 : len(M0)]),axis=1)\n",
        "\t\t\t\t\t#calculando nova coluna\n",
        "\t\t\t\t\tcol = (M0[:, i] + M0[:, j])*(M0[: , i]*M0[:, j] != 0)\n",
        "\t\t\t\t\tcol = np.concatenate((col[0 : j], col[j + 1 : np.size(col)]))\n",
        "\t\t\t\t\t#calculando nova linha\n",
        "\t\t\t\t\tlin = (M0[i, :]+M0[j, :])*(M0[i, :]*M0[j, :] != 0)\n",
        "\t\t\t\t\tlin = np.concatenate((lin[ 0 : j], lin[j + 1 : np.size(lin)]))\n",
        "\t\t\t\t\t#atualizando coluna\n",
        "\t\t\t\t\tM1[:,i]=col\n",
        "\t\t\t\t\t#atualizando linha\n",
        "\t\t\t\t\tM1[i,:]=lin\n",
        "\t\t\t\t\tM1[i, i + 1 : j] = M0[i, i + 1 : j] + M0[i + 1 : j, j].T;\n",
        "\t\t\t\t\tAutoCloud.matrixIntersection = M1\n",
        "\t\t\t\tj += 1\n",
        "\t\t\tif(merge):\n",
        "\t\t\t\ti = 0\n",
        "\t\t\telse:\n",
        "\t\t\t\ti += 1\n",
        "\n",
        "\tdef run(self,X):\n",
        "\t\tAutoCloud.listIntersection = np.zeros((np.size(AutoCloud.c)),dtype=int)\n",
        "\t\tif AutoCloud.k==1:\n",
        "\t\t\tAutoCloud.c[0]=DataCloud(X)\n",
        "\t\t\tAutoCloud.classIndex.append(0)\n",
        "\t\telif AutoCloud.k==2:\n",
        "\t\t\tAutoCloud.c[0].addDataClaud(X)\n",
        "\t\t\tAutoCloud.classIndex.append(0)\n",
        "\t\telif AutoCloud.k>=3:\n",
        "\t\t\ti=0\n",
        "\t\t\tcreateCloud = True\n",
        "\t\t\tAutoCloud.alfa = np.zeros((np.size(AutoCloud.c)),dtype=float)\n",
        "\t\t\tfor data in AutoCloud.c:\n",
        "\t\t\t\tn= data.n +1\n",
        "\t\t\t\tmean = ((n-1)/n)*data.mean + (1/n)*X\n",
        "\t\t\t\tvariance = ((n-1)/n)*data.variance +(1/n)*((np.linalg.norm(X-mean))**2)\n",
        "\t\t\t\tif variance == 0:\n",
        "\t\t\t\t\teccentricity = 0\n",
        "\t\t\t\telse:\n",
        "\t\t\t\t\teccentricity = (1/n)+((mean-X).T.dot(mean-X))/(n*variance)\n",
        "\t\t\t\ttypicality = 1 - eccentricity\n",
        "\t\t\t\tnorm_eccentricity = eccentricity/2\n",
        "\t\t\t\tnorm_typicality = typicality/(AutoCloud.k-2)\n",
        "\t\t\t\tdata.eccAn = eccentricity\n",
        "\t\t\t\t#print('tiṕicidade normalizada',norm_typicality)\n",
        "\t\t\t\tif(norm_eccentricity<=(AutoCloud.m**2 +1)/(2*n)):\n",
        "\t\t\t\t\t#print('dentro do limiar. tipicidade normalizada:',norm_typicality)\n",
        "\t\t\t\t\tdata.updateDataCloud(n,mean,variance)\n",
        "\t\t\t\t\tAutoCloud.alfa[i] = norm_typicality\n",
        "\t\t\t\t\tcreateCloud= False\n",
        "\t\t\t\t\tAutoCloud.listIntersection[i] = 1\n",
        "\t\t\t\telse:\n",
        "\t\t\t\t\tAutoCloud.alfa[i] = 0\n",
        "\t\t\t\t\tAutoCloud.listIntersection[i] = 0\n",
        "\t\t\t\ti+=1\n",
        "\t\t\t\t\n",
        "\t\t\tif(createCloud):\n",
        "\t\t\t\tAutoCloud.c = np.append(AutoCloud.c,DataCloud(X))\n",
        "\t\t\t\tAutoCloud.listIntersection = np.insert(AutoCloud.listIntersection,i,1)\n",
        "\t\t\t\tAutoCloud.matrixIntersection = np.pad(AutoCloud.matrixIntersection, ((0,1),(0,1)), 'constant', constant_values=(0))\n",
        "\t\t\tself.mergeClouds()\n",
        "\t\t\t#print('AutoCloud.alfa:', AutoCloud.alfa)\n",
        "\t\t\tif np.sum(AutoCloud.alfa) >0:\n",
        "\t\t\t\tAutoCloud.relevanceList = AutoCloud.alfa /np.sum(AutoCloud.alfa)\n",
        "\t\t\tif np.sum(AutoCloud.alfa) == 0:\n",
        "\t\t\t\tAutoCloud.relevanceList = AutoCloud.alfa /np.inf\n",
        "\t\t\tclassIndex = np.argmax(AutoCloud.relevanceList)\n",
        "\t\t\tAutoCloud.classIndex.append(classIndex)\n",
        "\n",
        "\n",
        "\t\tAutoCloud.k=AutoCloud.k+1\n"
      ]
    },
    {
      "cell_type": "markdown",
      "metadata": {
        "id": "j4gc7EZXfH1r"
      },
      "source": [
        "#Carregamento e Pré-processamento de Dados"
      ]
    },
    {
      "cell_type": "code",
      "execution_count": 22,
      "metadata": {},
      "outputs": [
        {
          "name": "stdout",
          "output_type": "stream",
          "text": [
            "Total de amostras no array 'dados': (88113, 3)\n"
          ]
        }
      ],
      "source": [
        "\n",
        "df = pd.read_csv('[coleta 2] captura_pacotes.csv', sep=',') #Selecionar colunas relevantes\n",
        "#df_reduzido = df.iloc[::4, :] #Selecionar apenas uma a cada quatro amostras\n",
        "df = df.fillna(0) #Substituir valores NaN por zero em todo o dataframe\n",
        "\n",
        "f1 = df['TCP Len'].values\n",
        "f2 = df['MQTT Len'].values\n",
        "f3 = df['TCP Time Delta'].values\n",
        "\n",
        "df2= pd.DataFrame(np.array([f1,f2,f3])).T\n",
        "dados = np.array([f1,f2,f3]).T\n",
        "print(f\"Total de amostras no array 'dados': {dados.shape}\")\n"
      ]
    },
    {
      "cell_type": "markdown",
      "metadata": {},
      "source": [
        "#Teste de verificação das cloud, processa uma amostra por vez. Se nao precisar analisar amostrar por amostra nao precisa usar as cedulas a seguir:"
      ]
    },
    {
      "cell_type": "code",
      "execution_count": 23,
      "metadata": {},
      "outputs": [],
      "source": [
        "i = 0\n",
        "teste=AutoCloud(1.8)"
      ]
    },
    {
      "cell_type": "code",
      "execution_count": 24,
      "metadata": {},
      "outputs": [
        {
          "data": {
            "text/plain": [
              "array([[0.0000e+00, 0.0000e+00, 0.0000e+00],\n",
              "       [0.0000e+00, 0.0000e+00, 1.6736e-05],\n",
              "       [0.0000e+00, 0.0000e+00, 0.0000e+00],\n",
              "       ...,\n",
              "       [2.8960e+03, 0.0000e+00, 1.0000e-08],\n",
              "       [0.0000e+00, 0.0000e+00, 3.9940e-06],\n",
              "       [2.8960e+03, 0.0000e+00, 1.5000e-08]], shape=(88113, 3))"
            ]
          },
          "execution_count": 24,
          "metadata": {},
          "output_type": "execute_result"
        }
      ],
      "source": [
        "dados"
      ]
    },
    {
      "cell_type": "code",
      "execution_count": 25,
      "metadata": {},
      "outputs": [
        {
          "name": "stdout",
          "output_type": "stream",
          "text": [
            "iteration: 1 x: [0. 0. 0.]\n",
            "----------------------------------\n",
            "cloud numero 1\n",
            "n: 1 mean: [0. 0. 0.] variance: 0\n",
            "+++++++++++++++++++++++++++++++\n"
          ]
        }
      ],
      "source": [
        "print('iteration:',i+1,'x:',dados[i])\n",
        "teste.run(np.array(dados[i]))\n",
        "i = i + 1\n",
        "print('----------------------------------')\n",
        "for j,cloud in enumerate(teste.c,start=0):\n",
        "    print(f'cloud numero {j+1}')\n",
        "    print('n:',cloud.n,'mean:',cloud.mean,'variance:',cloud.variance)\n",
        "    print('+++++++++++++++++++++++++++++++')\n"
      ]
    },
    {
      "cell_type": "markdown",
      "metadata": {},
      "source": [
        "##Teste do parâmetro m, que define a tolerância para a criação de novas nuvens."
      ]
    },
    {
      "cell_type": "code",
      "execution_count": 26,
      "metadata": {},
      "outputs": [
        {
          "data": {
            "application/vnd.plotly.v1+json": {
              "config": {
                "plotlyServerURL": "https://plot.ly"
              },
              "data": [
                {
                  "name": "m:1.25",
                  "type": "scatter",
                  "x": {
                    "bdata": "AQIDBAUGBwgJCgsMDQ4PEBESExQVFhcYGRobHB0eHyAhIiMkJSYnKCkqKywtLi8wMTIzNDU2Nzg5Ojs8PT4/QEFCQ0RFRkdISUpLTE1OT1BRUlNUVVZXWFlaW1xdXl9gYWJj",
                    "dtype": "i1"
                  },
                  "xaxis": "x",
                  "y": {
                    "bdata": "AAAAAACA9D8AAAAAAIDkP1VVVVVVVds/AAAAAACA1D9mZmZmZmbQP1VVVVVVVcs/27Zt27Ztxz8AAAAAAIDEP47jOI7jOMI/ZmZmZmZmwD/RRRdddNG9P1VVVVVVVbs/sRM7sRM7uT/btm3btm23P97d3d3d3bU/AAAAAACAtD9LS0tLS0uzP47jOI7jOLI/NpTXUF5DsT9mZmZmZmawP8/zPM/zPK8/0UUXXXTRrT/IQhaykIWsP1VVVVVVVas/PQrXo3A9qj+xEzuxEzupP76E9hLaS6g/27Zt27Ztpz9Y7mmE5Z6mP97d3d3d3aU/KaWUUkoppT8AAAAAAICkP+GDDz744KM/S0tLS0tLoz/jK77iK76iP47jOI7jOKI/rRtMkc+6oT82lNdQXkOhPyEN0iAN0qA/ZmZmZmZmoD8AAAAAAACgP8/zPM/zPJ8/oS/oC/qCnj/RRRdddNGdP33SJ33SJ50/yEIWspCFnD/wbNR3NuqbP1VVVVVVVZs/sj401ofGmj89CtejcD2aP7q5ubm5uZk/sRM7sRM7mT+4ss8hNcGYP76E9hLaS5g/2zesfcPalz/btm3btm2XP0hwH8F9BJc/WO5phOWelj8JGk7qvjyWP97d3d3d3ZU/m/cpLhmClT8ppZRSSimVPzVN0zRN05Q/AAAAAACAlD/0Qi/0Qi+UP+GDDz744JM/fjUm0gOVkz9LS0tLS0uTPzDXDsy1A5M/4yu+4iu+kj9TT8Zvl3qSP47jOI7jOJI/kB8/fvz4kT+tG0yRz7qRP36x5BdLfpE/NpTXUF5DkT/lJ8RZ+QmRPyEN0iAN0pA/N2F+V4ubkD9mZmZmZmaQP9St+WGRMpA/AAAAAAAAkD8xUMIbTZ2PP8/zPM/zPI8/397e3t7ejj+hL+gL+oKOPyCT4gUyKY4/0UUXXXTRjT/Yve51r3uNP33SJ33SJ40/Xc3VXM3VjD/IQhaykIWMPzfccMMNN4w/8GzUdzbqiz/wuSVO/Z6LP1VVVVVVVYs/283yJDINiz+yPjTWh8aKPywFav1KgYo/",
                    "dtype": "f8"
                  },
                  "yaxis": "y"
                },
                {
                  "name": "m:1.5",
                  "type": "scatter",
                  "x": {
                    "bdata": "AQIDBAUGBwgJCgsMDQ4PEBESExQVFhcYGRobHB0eHyAhIiMkJSYnKCkqKywtLi8wMTIzNDU2Nzg5Ojs8PT4/QEFCQ0RFRkdISUpLTE1OT1BRUlNUVVZXWFlaW1xdXl9gYWJj",
                    "dtype": "i1"
                  },
                  "xaxis": "x",
                  "y": {
                    "bdata": "AAAAAAAA+j8AAAAAAADqP1VVVVVVVeE/AAAAAAAA2j/NzMzMzMzUP1VVVVVVVdE/btu2bdu2zT8AAAAAAADKP8dxHMdxHMc/zczMzMzMxD/poosuuujCP1VVVVVVVcE/AAAAAAAAwD9u27Zt27a9P7y7u7u7u7s/AAAAAAAAuj94eHh4eHi4P8dxHMdxHLc/UV5DeQ3ltT/NzMzMzMy0P/Q8z/M8z7M/6aKLLrrosj8hC1nIQhayP1VVVVVVVbE/pHA9CtejsD8AAAAAAACwPwntJbSX0K4/btu2bdu2rT/UCMs9jbCsP7y7u7u7u6s/11prrbXWqj8AAAAAAACqPzbZZJNNNqk/eHh4eHh4qD9YfMVXfMWnP8dxHMdxHKc/yWfdYIp8pj9RXkN5DeWlP1VVVVVVVaU/zczMzMzMpD9L1K5E7UqkP/Q8z/M8z6M/1pQ1ZU1Zoz/poosuuuiiP9InfdInfaI/IQtZyEIWoj9HfWejvrOhP1VVVVVVVaE/PzTWh8b6oD+kcD0K16OgP1BQUFBQUKA/AAAAAAAAoD86pCYYb2WfPwntJbSX0J4/QZ4S5ClBnj9u27Zt27adPxbTWUxnMZ0/1AjLPY2wnD91Xx5bETScP7y7u7u7u5s/n+KSIVhHmz/XWmuttdaaP5qmaZqmaZo/AAAAAAAAmj+amZmZmZmZPzbZZJNNNpk/BJWzW/jVmD94eHh4eHiYP4K5dmCuHZg/WHzFV3zFlz/57VJPxm+XP8dxHMdxHJc/tmzZsmXLlj/JZ91ginyWPzCW/GLJL5Y/UV5DeQ3llT8KcVZ+QpyVP1VVVVVVVZU/ICod2TMQlT/NzMzMzMyUPwaebs0Pi5Q/S9SuRO1KlD/6tYdcVgyUP/Q8z/M8z5M/lJOTk5OTkz/WlDVlTVmTP+MFMileIJM/6aKLLrrokj8rWclKVrKSP9InfdInfZI/kiRJkiRJkj8hC1nIQhaSP+SRRx555JE/R31no76zkT9BGGnHCoSRP1VVVVVVVZE/kWnYbpYnkT8/NNaHxvqQP3o7Q2LezpA/",
                    "dtype": "f8"
                  },
                  "yaxis": "y"
                },
                {
                  "name": "m:2.0",
                  "type": "scatter",
                  "x": {
                    "bdata": "AQIDBAUGBwgJCgsMDQ4PEBESExQVFhcYGRobHB0eHyAhIiMkJSYnKCkqKywtLi8wMTIzNDU2Nzg5Ojs8PT4/QEFCQ0RFRkdISUpLTE1OT1BRUlNUVVZXWFlaW1xdXl9gYWJj",
                    "dtype": "i1"
                  },
                  "xaxis": "x",
                  "y": {
                    "bdata": "AAAAAAAABEAAAAAAAAD0P6uqqqqqquo/AAAAAAAA5D8AAAAAAADgP6uqqqqqqto/t23btm3b1j8AAAAAAADUP3Icx3Ecx9E/AAAAAAAA0D8XXXTRRRfNP6uqqqqqqso/2Ymd2ImdyD+3bdu2bdvGP1VVVVVVVcU/AAAAAAAAxD/T0tLS0tLCP3Icx3Ecx8E/eQ3lNZTXwD8AAAAAAADAP57neZ7neb4/F1100UUXvT+96U1vetO7P6uqqqqqqro/mpmZmZmZuT/ZiZ3YiZ24P0J7Ce0ltLc/t23btm3btj98GmG5pxG2P1VVVVVVVbU/pZRSSimltD8AAAAAAAC0P2WTTTbZZLM/09LS0tLSsj+SJEmSJEmyP3Icx3Ecx7E/whT5rBtMsT95DeU1lNewP5AGaZAGabA/AAAAAAAAsD84H4PzMTivP57neZ7nea4/cUfcEXfErT8XXXTRRRetPxzHcRzHcaw/velNb3rTqz9t1Hc26jurP6uqqqqqqqo/iMb60Fgfqj+amZmZmZmpPxkZGRkZGak/2Ymd2ImdqD/yVvY5pCaoP0J7Ce0ltKc/RhdddNFFpz+3bdu2bdumP0xnMZ3FdKY/fBphuacRpj/QcFL35bGlP1VVVVVVVaU/yRCso837pD+llFJKKaWkPxRFURRFUaQ/AAAAAAAApD8UO7ETO7GjP2WTTTbZZKM/oHJ2C78aoz/T0tLS0tKiPynxM0r8jKI/kiRJkiRJoj/nQKIVNgeiP3Icx3Ecx6E/jBgxYsSIoT/CFPmsG0yhPxEREREREaE/eQ3lNZTXoD9WfkKclZ+gP5AGaZAGaaA/aCAqHdkzoD8AAAAAAACgP1ikDDzdmp8/OB+D8zE4nz+U8EZT59eeP57neZ7neZ4/Hh4eHh4enj9xR9wRd8SdP/rN1qHfbJ0/F1100UUXnT/MYQ5zmMOcPxzHcRzHcZw/HMIhHMIhnD+96U1vetObP4cbbrjhhps/bdR3Nuo7mz8or6G8hvKaP6uqqqqqqpo/Grab5Ulkmj+IxvrQWB+aPzFvZ0jM25k/",
                    "dtype": "f8"
                  },
                  "yaxis": "y"
                }
              ],
              "layout": {
                "height": 500,
                "template": {
                  "data": {
                    "bar": [
                      {
                        "error_x": {
                          "color": "#2a3f5f"
                        },
                        "error_y": {
                          "color": "#2a3f5f"
                        },
                        "marker": {
                          "line": {
                            "color": "#E5ECF6",
                            "width": 0.5
                          },
                          "pattern": {
                            "fillmode": "overlay",
                            "size": 10,
                            "solidity": 0.2
                          }
                        },
                        "type": "bar"
                      }
                    ],
                    "barpolar": [
                      {
                        "marker": {
                          "line": {
                            "color": "#E5ECF6",
                            "width": 0.5
                          },
                          "pattern": {
                            "fillmode": "overlay",
                            "size": 10,
                            "solidity": 0.2
                          }
                        },
                        "type": "barpolar"
                      }
                    ],
                    "carpet": [
                      {
                        "aaxis": {
                          "endlinecolor": "#2a3f5f",
                          "gridcolor": "white",
                          "linecolor": "white",
                          "minorgridcolor": "white",
                          "startlinecolor": "#2a3f5f"
                        },
                        "baxis": {
                          "endlinecolor": "#2a3f5f",
                          "gridcolor": "white",
                          "linecolor": "white",
                          "minorgridcolor": "white",
                          "startlinecolor": "#2a3f5f"
                        },
                        "type": "carpet"
                      }
                    ],
                    "choropleth": [
                      {
                        "colorbar": {
                          "outlinewidth": 0,
                          "ticks": ""
                        },
                        "type": "choropleth"
                      }
                    ],
                    "contour": [
                      {
                        "colorbar": {
                          "outlinewidth": 0,
                          "ticks": ""
                        },
                        "colorscale": [
                          [
                            0,
                            "#0d0887"
                          ],
                          [
                            0.1111111111111111,
                            "#46039f"
                          ],
                          [
                            0.2222222222222222,
                            "#7201a8"
                          ],
                          [
                            0.3333333333333333,
                            "#9c179e"
                          ],
                          [
                            0.4444444444444444,
                            "#bd3786"
                          ],
                          [
                            0.5555555555555556,
                            "#d8576b"
                          ],
                          [
                            0.6666666666666666,
                            "#ed7953"
                          ],
                          [
                            0.7777777777777778,
                            "#fb9f3a"
                          ],
                          [
                            0.8888888888888888,
                            "#fdca26"
                          ],
                          [
                            1,
                            "#f0f921"
                          ]
                        ],
                        "type": "contour"
                      }
                    ],
                    "contourcarpet": [
                      {
                        "colorbar": {
                          "outlinewidth": 0,
                          "ticks": ""
                        },
                        "type": "contourcarpet"
                      }
                    ],
                    "heatmap": [
                      {
                        "colorbar": {
                          "outlinewidth": 0,
                          "ticks": ""
                        },
                        "colorscale": [
                          [
                            0,
                            "#0d0887"
                          ],
                          [
                            0.1111111111111111,
                            "#46039f"
                          ],
                          [
                            0.2222222222222222,
                            "#7201a8"
                          ],
                          [
                            0.3333333333333333,
                            "#9c179e"
                          ],
                          [
                            0.4444444444444444,
                            "#bd3786"
                          ],
                          [
                            0.5555555555555556,
                            "#d8576b"
                          ],
                          [
                            0.6666666666666666,
                            "#ed7953"
                          ],
                          [
                            0.7777777777777778,
                            "#fb9f3a"
                          ],
                          [
                            0.8888888888888888,
                            "#fdca26"
                          ],
                          [
                            1,
                            "#f0f921"
                          ]
                        ],
                        "type": "heatmap"
                      }
                    ],
                    "histogram": [
                      {
                        "marker": {
                          "pattern": {
                            "fillmode": "overlay",
                            "size": 10,
                            "solidity": 0.2
                          }
                        },
                        "type": "histogram"
                      }
                    ],
                    "histogram2d": [
                      {
                        "colorbar": {
                          "outlinewidth": 0,
                          "ticks": ""
                        },
                        "colorscale": [
                          [
                            0,
                            "#0d0887"
                          ],
                          [
                            0.1111111111111111,
                            "#46039f"
                          ],
                          [
                            0.2222222222222222,
                            "#7201a8"
                          ],
                          [
                            0.3333333333333333,
                            "#9c179e"
                          ],
                          [
                            0.4444444444444444,
                            "#bd3786"
                          ],
                          [
                            0.5555555555555556,
                            "#d8576b"
                          ],
                          [
                            0.6666666666666666,
                            "#ed7953"
                          ],
                          [
                            0.7777777777777778,
                            "#fb9f3a"
                          ],
                          [
                            0.8888888888888888,
                            "#fdca26"
                          ],
                          [
                            1,
                            "#f0f921"
                          ]
                        ],
                        "type": "histogram2d"
                      }
                    ],
                    "histogram2dcontour": [
                      {
                        "colorbar": {
                          "outlinewidth": 0,
                          "ticks": ""
                        },
                        "colorscale": [
                          [
                            0,
                            "#0d0887"
                          ],
                          [
                            0.1111111111111111,
                            "#46039f"
                          ],
                          [
                            0.2222222222222222,
                            "#7201a8"
                          ],
                          [
                            0.3333333333333333,
                            "#9c179e"
                          ],
                          [
                            0.4444444444444444,
                            "#bd3786"
                          ],
                          [
                            0.5555555555555556,
                            "#d8576b"
                          ],
                          [
                            0.6666666666666666,
                            "#ed7953"
                          ],
                          [
                            0.7777777777777778,
                            "#fb9f3a"
                          ],
                          [
                            0.8888888888888888,
                            "#fdca26"
                          ],
                          [
                            1,
                            "#f0f921"
                          ]
                        ],
                        "type": "histogram2dcontour"
                      }
                    ],
                    "mesh3d": [
                      {
                        "colorbar": {
                          "outlinewidth": 0,
                          "ticks": ""
                        },
                        "type": "mesh3d"
                      }
                    ],
                    "parcoords": [
                      {
                        "line": {
                          "colorbar": {
                            "outlinewidth": 0,
                            "ticks": ""
                          }
                        },
                        "type": "parcoords"
                      }
                    ],
                    "pie": [
                      {
                        "automargin": true,
                        "type": "pie"
                      }
                    ],
                    "scatter": [
                      {
                        "fillpattern": {
                          "fillmode": "overlay",
                          "size": 10,
                          "solidity": 0.2
                        },
                        "type": "scatter"
                      }
                    ],
                    "scatter3d": [
                      {
                        "line": {
                          "colorbar": {
                            "outlinewidth": 0,
                            "ticks": ""
                          }
                        },
                        "marker": {
                          "colorbar": {
                            "outlinewidth": 0,
                            "ticks": ""
                          }
                        },
                        "type": "scatter3d"
                      }
                    ],
                    "scattercarpet": [
                      {
                        "marker": {
                          "colorbar": {
                            "outlinewidth": 0,
                            "ticks": ""
                          }
                        },
                        "type": "scattercarpet"
                      }
                    ],
                    "scattergeo": [
                      {
                        "marker": {
                          "colorbar": {
                            "outlinewidth": 0,
                            "ticks": ""
                          }
                        },
                        "type": "scattergeo"
                      }
                    ],
                    "scattergl": [
                      {
                        "marker": {
                          "colorbar": {
                            "outlinewidth": 0,
                            "ticks": ""
                          }
                        },
                        "type": "scattergl"
                      }
                    ],
                    "scattermap": [
                      {
                        "marker": {
                          "colorbar": {
                            "outlinewidth": 0,
                            "ticks": ""
                          }
                        },
                        "type": "scattermap"
                      }
                    ],
                    "scattermapbox": [
                      {
                        "marker": {
                          "colorbar": {
                            "outlinewidth": 0,
                            "ticks": ""
                          }
                        },
                        "type": "scattermapbox"
                      }
                    ],
                    "scatterpolar": [
                      {
                        "marker": {
                          "colorbar": {
                            "outlinewidth": 0,
                            "ticks": ""
                          }
                        },
                        "type": "scatterpolar"
                      }
                    ],
                    "scatterpolargl": [
                      {
                        "marker": {
                          "colorbar": {
                            "outlinewidth": 0,
                            "ticks": ""
                          }
                        },
                        "type": "scatterpolargl"
                      }
                    ],
                    "scatterternary": [
                      {
                        "marker": {
                          "colorbar": {
                            "outlinewidth": 0,
                            "ticks": ""
                          }
                        },
                        "type": "scatterternary"
                      }
                    ],
                    "surface": [
                      {
                        "colorbar": {
                          "outlinewidth": 0,
                          "ticks": ""
                        },
                        "colorscale": [
                          [
                            0,
                            "#0d0887"
                          ],
                          [
                            0.1111111111111111,
                            "#46039f"
                          ],
                          [
                            0.2222222222222222,
                            "#7201a8"
                          ],
                          [
                            0.3333333333333333,
                            "#9c179e"
                          ],
                          [
                            0.4444444444444444,
                            "#bd3786"
                          ],
                          [
                            0.5555555555555556,
                            "#d8576b"
                          ],
                          [
                            0.6666666666666666,
                            "#ed7953"
                          ],
                          [
                            0.7777777777777778,
                            "#fb9f3a"
                          ],
                          [
                            0.8888888888888888,
                            "#fdca26"
                          ],
                          [
                            1,
                            "#f0f921"
                          ]
                        ],
                        "type": "surface"
                      }
                    ],
                    "table": [
                      {
                        "cells": {
                          "fill": {
                            "color": "#EBF0F8"
                          },
                          "line": {
                            "color": "white"
                          }
                        },
                        "header": {
                          "fill": {
                            "color": "#C8D4E3"
                          },
                          "line": {
                            "color": "white"
                          }
                        },
                        "type": "table"
                      }
                    ]
                  },
                  "layout": {
                    "annotationdefaults": {
                      "arrowcolor": "#2a3f5f",
                      "arrowhead": 0,
                      "arrowwidth": 1
                    },
                    "autotypenumbers": "strict",
                    "coloraxis": {
                      "colorbar": {
                        "outlinewidth": 0,
                        "ticks": ""
                      }
                    },
                    "colorscale": {
                      "diverging": [
                        [
                          0,
                          "#8e0152"
                        ],
                        [
                          0.1,
                          "#c51b7d"
                        ],
                        [
                          0.2,
                          "#de77ae"
                        ],
                        [
                          0.3,
                          "#f1b6da"
                        ],
                        [
                          0.4,
                          "#fde0ef"
                        ],
                        [
                          0.5,
                          "#f7f7f7"
                        ],
                        [
                          0.6,
                          "#e6f5d0"
                        ],
                        [
                          0.7,
                          "#b8e186"
                        ],
                        [
                          0.8,
                          "#7fbc41"
                        ],
                        [
                          0.9,
                          "#4d9221"
                        ],
                        [
                          1,
                          "#276419"
                        ]
                      ],
                      "sequential": [
                        [
                          0,
                          "#0d0887"
                        ],
                        [
                          0.1111111111111111,
                          "#46039f"
                        ],
                        [
                          0.2222222222222222,
                          "#7201a8"
                        ],
                        [
                          0.3333333333333333,
                          "#9c179e"
                        ],
                        [
                          0.4444444444444444,
                          "#bd3786"
                        ],
                        [
                          0.5555555555555556,
                          "#d8576b"
                        ],
                        [
                          0.6666666666666666,
                          "#ed7953"
                        ],
                        [
                          0.7777777777777778,
                          "#fb9f3a"
                        ],
                        [
                          0.8888888888888888,
                          "#fdca26"
                        ],
                        [
                          1,
                          "#f0f921"
                        ]
                      ],
                      "sequentialminus": [
                        [
                          0,
                          "#0d0887"
                        ],
                        [
                          0.1111111111111111,
                          "#46039f"
                        ],
                        [
                          0.2222222222222222,
                          "#7201a8"
                        ],
                        [
                          0.3333333333333333,
                          "#9c179e"
                        ],
                        [
                          0.4444444444444444,
                          "#bd3786"
                        ],
                        [
                          0.5555555555555556,
                          "#d8576b"
                        ],
                        [
                          0.6666666666666666,
                          "#ed7953"
                        ],
                        [
                          0.7777777777777778,
                          "#fb9f3a"
                        ],
                        [
                          0.8888888888888888,
                          "#fdca26"
                        ],
                        [
                          1,
                          "#f0f921"
                        ]
                      ]
                    },
                    "colorway": [
                      "#636efa",
                      "#EF553B",
                      "#00cc96",
                      "#ab63fa",
                      "#FFA15A",
                      "#19d3f3",
                      "#FF6692",
                      "#B6E880",
                      "#FF97FF",
                      "#FECB52"
                    ],
                    "font": {
                      "color": "#2a3f5f"
                    },
                    "geo": {
                      "bgcolor": "white",
                      "lakecolor": "white",
                      "landcolor": "#E5ECF6",
                      "showlakes": true,
                      "showland": true,
                      "subunitcolor": "white"
                    },
                    "hoverlabel": {
                      "align": "left"
                    },
                    "hovermode": "closest",
                    "mapbox": {
                      "style": "light"
                    },
                    "paper_bgcolor": "white",
                    "plot_bgcolor": "#E5ECF6",
                    "polar": {
                      "angularaxis": {
                        "gridcolor": "white",
                        "linecolor": "white",
                        "ticks": ""
                      },
                      "bgcolor": "#E5ECF6",
                      "radialaxis": {
                        "gridcolor": "white",
                        "linecolor": "white",
                        "ticks": ""
                      }
                    },
                    "scene": {
                      "xaxis": {
                        "backgroundcolor": "#E5ECF6",
                        "gridcolor": "white",
                        "gridwidth": 2,
                        "linecolor": "white",
                        "showbackground": true,
                        "ticks": "",
                        "zerolinecolor": "white"
                      },
                      "yaxis": {
                        "backgroundcolor": "#E5ECF6",
                        "gridcolor": "white",
                        "gridwidth": 2,
                        "linecolor": "white",
                        "showbackground": true,
                        "ticks": "",
                        "zerolinecolor": "white"
                      },
                      "zaxis": {
                        "backgroundcolor": "#E5ECF6",
                        "gridcolor": "white",
                        "gridwidth": 2,
                        "linecolor": "white",
                        "showbackground": true,
                        "ticks": "",
                        "zerolinecolor": "white"
                      }
                    },
                    "shapedefaults": {
                      "line": {
                        "color": "#2a3f5f"
                      }
                    },
                    "ternary": {
                      "aaxis": {
                        "gridcolor": "white",
                        "linecolor": "white",
                        "ticks": ""
                      },
                      "baxis": {
                        "gridcolor": "white",
                        "linecolor": "white",
                        "ticks": ""
                      },
                      "bgcolor": "#E5ECF6",
                      "caxis": {
                        "gridcolor": "white",
                        "linecolor": "white",
                        "ticks": ""
                      }
                    },
                    "title": {
                      "x": 0.05
                    },
                    "xaxis": {
                      "automargin": true,
                      "gridcolor": "white",
                      "linecolor": "white",
                      "ticks": "",
                      "title": {
                        "standoff": 15
                      },
                      "zerolinecolor": "white",
                      "zerolinewidth": 2
                    },
                    "yaxis": {
                      "automargin": true,
                      "gridcolor": "white",
                      "linecolor": "white",
                      "ticks": "",
                      "title": {
                        "standoff": 15
                      },
                      "zerolinecolor": "white",
                      "zerolinewidth": 2
                    }
                  }
                },
                "title": {
                  "text": "análise dos valores de m"
                },
                "width": 800,
                "xaxis": {
                  "anchor": "y",
                  "domain": [
                    0,
                    1
                  ],
                  "title": {
                    "text": "quatidade de dados"
                  }
                },
                "yaxis": {
                  "anchor": "x",
                  "domain": [
                    0,
                    1
                  ],
                  "title": {
                    "text": "valor de m2.0"
                  }
                }
              }
            }
          },
          "metadata": {},
          "output_type": "display_data"
        }
      ],
      "source": [
        "x = np.arange(1,100)\n",
        "def limiar(m,x):\n",
        "    return (1+m**2)/(2*x)\n",
        "ms = np.array([1.25,1.5,2])\n",
        "labels = [f'm:{ms[i-1]}' for i in range(1,1+len(ms))]\n",
        "'''plt.figure(figsize=(10,5))\n",
        "for m,label in zip(ms,labels):\n",
        "    plt.plot(x,limiar(m,x),label=label)\n",
        "xticks = list(np.arange(0,31))\n",
        "yticks = list(np.arange(0,1.75,0.125))\n",
        "plt.xticks(xticks)\n",
        "plt.yticks(yticks)\n",
        "plt.xlabel('quantidade de dados')\n",
        "plt.ylabel('valores de m')\n",
        "plt.grid(True)\n",
        "plt.legend()'''\n",
        "\n",
        "fig = make_subplots(rows=1, cols=1)\n",
        "for m,label in zip(ms[:],labels[:]):\n",
        "    fig.add_trace(go.Scatter(x=x,y=limiar(m,x),name=label),row=1,col=1)\n",
        "fig.update_layout(width=800, height=500, title=f'análise dos valores de m')\n",
        "fig.update_yaxes(title_text = f'valor de m{m}')\n",
        "fig.update_xaxes(title_text = 'quatidade de dados')\n",
        "fig.show()"
      ]
    },
    {
      "cell_type": "markdown",
      "metadata": {},
      "source": [
        "#Teste para o AutoCloud para processar todas as amostras de uma vez e gerar o grafico"
      ]
    },
    {
      "cell_type": "code",
      "execution_count": 27,
      "metadata": {},
      "outputs": [
        {
          "name": "stdout",
          "output_type": "stream",
          "text": [
            "na iteracao 85 houve fusao de clouds\n",
            "na iteracao 93 houve fusao de clouds\n",
            "na iteracao 308 houve fusao de clouds\n",
            "na iteracao 471 houve fusao de clouds\n",
            "na iteracao 657 houve fusao de clouds\n",
            "na iteracao 1376 houve fusao de clouds\n",
            "na iteracao 1449 houve fusao de clouds\n",
            "na iteracao 1872 houve fusao de clouds\n",
            "na iteracao 3221 houve fusao de clouds\n",
            "na iteracao 3704 houve fusao de clouds\n",
            "na iteracao 3769 houve fusao de clouds\n",
            "na iteracao 4196 houve fusao de clouds\n",
            "na iteracao 4712 houve fusao de clouds\n",
            "na iteracao 5668 houve fusao de clouds\n",
            "na iteracao 6048 houve fusao de clouds\n",
            "na iteracao 6340 houve fusao de clouds\n",
            "na iteracao 6378 houve fusao de clouds\n",
            "na iteracao 6455 houve fusao de clouds\n",
            "na iteracao 6919 houve fusao de clouds\n",
            "na iteracao 6987 houve fusao de clouds\n",
            "na iteracao 7364 houve fusao de clouds\n",
            "na iteracao 7368 houve fusao de clouds\n",
            "na iteracao 7741 houve fusao de clouds\n",
            "na iteracao 7755 houve fusao de clouds\n",
            "na iteracao 8198 houve fusao de clouds\n",
            "na iteracao 8249 houve fusao de clouds\n",
            "na iteracao 8677 houve fusao de clouds\n",
            "na iteracao 9136 houve fusao de clouds\n",
            "na iteracao 9202 houve fusao de clouds\n",
            "na iteracao 9343 houve fusao de clouds\n",
            "na iteracao 9576 houve fusao de clouds\n",
            "na iteracao 10017 houve fusao de clouds\n",
            "na iteracao 10278 houve fusao de clouds\n",
            "na iteracao 10521 houve fusao de clouds\n",
            "na iteracao 10935 houve fusao de clouds\n",
            "na iteracao 10939 houve fusao de clouds\n",
            "na iteracao 11415 houve fusao de clouds\n",
            "na iteracao 11480 houve fusao de clouds\n",
            "na iteracao 11794 houve fusao de clouds\n",
            "na iteracao 11883 houve fusao de clouds\n",
            "na iteracao 11958 houve fusao de clouds\n",
            "na iteracao 12335 houve fusao de clouds\n",
            "na iteracao 12360 houve fusao de clouds\n",
            "na iteracao 12808 houve fusao de clouds\n",
            "na iteracao 12852 houve fusao de clouds\n",
            "na iteracao 13264 houve fusao de clouds\n",
            "na iteracao 13751 houve fusao de clouds\n",
            "na iteracao 13810 houve fusao de clouds\n",
            "na iteracao 14197 houve fusao de clouds\n",
            "na iteracao 14330 houve fusao de clouds\n",
            "na iteracao 14644 houve fusao de clouds\n",
            "na iteracao 14976 houve fusao de clouds\n",
            "na iteracao 15012 houve fusao de clouds\n",
            "na iteracao 15444 houve fusao de clouds\n",
            "na iteracao 15553 houve fusao de clouds\n",
            "na iteracao 15893 houve fusao de clouds\n",
            "na iteracao 16267 houve fusao de clouds\n",
            "na iteracao 16699 houve fusao de clouds\n",
            "na iteracao 17187 houve fusao de clouds\n",
            "na iteracao 17218 houve fusao de clouds\n",
            "na iteracao 17784 houve fusao de clouds\n",
            "na iteracao 17834 houve fusao de clouds\n",
            "na iteracao 18230 houve fusao de clouds\n",
            "na iteracao 18444 houve fusao de clouds\n",
            "na iteracao 18680 houve fusao de clouds\n",
            "na iteracao 18762 houve fusao de clouds\n",
            "na iteracao 18803 houve fusao de clouds\n",
            "na iteracao 19145 houve fusao de clouds\n",
            "na iteracao 19149 houve fusao de clouds\n",
            "na iteracao 19166 houve fusao de clouds\n",
            "na iteracao 19453 houve fusao de clouds\n",
            "na iteracao 19603 houve fusao de clouds\n",
            "na iteracao 19754 houve fusao de clouds\n",
            "na iteracao 20050 houve fusao de clouds\n",
            "na iteracao 20628 houve fusao de clouds\n",
            "na iteracao 20940 houve fusao de clouds\n",
            "na iteracao 21236 houve fusao de clouds\n",
            "na iteracao 21412 houve fusao de clouds\n",
            "na iteracao 21556 houve fusao de clouds\n",
            "na iteracao 21765 houve fusao de clouds\n",
            "na iteracao 21774 houve fusao de clouds\n",
            "na iteracao 21826 houve fusao de clouds\n",
            "na iteracao 22225 houve fusao de clouds\n",
            "na iteracao 22688 houve fusao de clouds\n",
            "na iteracao 22732 houve fusao de clouds\n",
            "na iteracao 22829 houve fusao de clouds\n",
            "na iteracao 23464 houve fusao de clouds\n",
            "na iteracao 23881 houve fusao de clouds\n",
            "na iteracao 23884 houve fusao de clouds\n",
            "na iteracao 24330 houve fusao de clouds\n",
            "na iteracao 24779 houve fusao de clouds\n",
            "na iteracao 24818 houve fusao de clouds\n",
            "na iteracao 25231 houve fusao de clouds\n",
            "na iteracao 25713 houve fusao de clouds\n",
            "na iteracao 26167 houve fusao de clouds\n",
            "na iteracao 26171 houve fusao de clouds\n",
            "na iteracao 26348 houve fusao de clouds\n",
            "na iteracao 27058 houve fusao de clouds\n",
            "na iteracao 27095 houve fusao de clouds\n",
            "na iteracao 27510 houve fusao de clouds\n",
            "na iteracao 27900 houve fusao de clouds\n",
            "na iteracao 28040 houve fusao de clouds\n",
            "na iteracao 28157 houve fusao de clouds\n",
            "na iteracao 28163 houve fusao de clouds\n",
            "na iteracao 28320 houve fusao de clouds\n",
            "na iteracao 28430 houve fusao de clouds\n",
            "na iteracao 28688 houve fusao de clouds\n",
            "na iteracao 28766 houve fusao de clouds\n",
            "na iteracao 28772 houve fusao de clouds\n",
            "na iteracao 29058 houve fusao de clouds\n",
            "na iteracao 29297 houve fusao de clouds\n",
            "na iteracao 29305 houve fusao de clouds\n",
            "na iteracao 29432 houve fusao de clouds\n",
            "na iteracao 29554 houve fusao de clouds\n",
            "na iteracao 29625 houve fusao de clouds\n",
            "na iteracao 29663 houve fusao de clouds\n",
            "na iteracao 29704 houve fusao de clouds\n",
            "na iteracao 29746 houve fusao de clouds\n",
            "na iteracao 29786 houve fusao de clouds\n",
            "na iteracao 29824 houve fusao de clouds\n",
            "na iteracao 29866 houve fusao de clouds\n",
            "na iteracao 29904 houve fusao de clouds\n",
            "na iteracao 29942 houve fusao de clouds\n",
            "na iteracao 29984 houve fusao de clouds\n",
            "na iteracao 30022 houve fusao de clouds\n",
            "na iteracao 30055 houve fusao de clouds\n",
            "na iteracao 30105 houve fusao de clouds\n",
            "na iteracao 30139 houve fusao de clouds\n",
            "na iteracao 30176 houve fusao de clouds\n",
            "na iteracao 30211 houve fusao de clouds\n",
            "na iteracao 30242 houve fusao de clouds\n",
            "na iteracao 30269 houve fusao de clouds\n",
            "na iteracao 30297 houve fusao de clouds\n",
            "na iteracao 30329 houve fusao de clouds\n",
            "na iteracao 30358 houve fusao de clouds\n",
            "na iteracao 30384 houve fusao de clouds\n",
            "na iteracao 30413 houve fusao de clouds\n",
            "na iteracao 30441 houve fusao de clouds\n",
            "na iteracao 30448 houve fusao de clouds\n",
            "na iteracao 30482 houve fusao de clouds\n",
            "na iteracao 30515 houve fusao de clouds\n",
            "na iteracao 30546 houve fusao de clouds\n",
            "na iteracao 30574 houve fusao de clouds\n",
            "na iteracao 30606 houve fusao de clouds\n",
            "na iteracao 30634 houve fusao de clouds\n",
            "na iteracao 30663 houve fusao de clouds\n",
            "na iteracao 30693 houve fusao de clouds\n",
            "na iteracao 30719 houve fusao de clouds\n",
            "na iteracao 30747 houve fusao de clouds\n",
            "na iteracao 30779 houve fusao de clouds\n",
            "na iteracao 30805 houve fusao de clouds\n",
            "na iteracao 30834 houve fusao de clouds\n",
            "na iteracao 30864 houve fusao de clouds\n",
            "na iteracao 30873 houve fusao de clouds\n",
            "na iteracao 30881 houve fusao de clouds\n",
            "na iteracao 30886 houve fusao de clouds\n",
            "na iteracao 30889 houve fusao de clouds\n",
            "na iteracao 30894 houve fusao de clouds\n",
            "na iteracao 30898 houve fusao de clouds\n",
            "na iteracao 30903 houve fusao de clouds\n",
            "na iteracao 30911 houve fusao de clouds\n",
            "na iteracao 30919 houve fusao de clouds\n",
            "na iteracao 30924 houve fusao de clouds\n",
            "na iteracao 30927 houve fusao de clouds\n",
            "na iteracao 30932 houve fusao de clouds\n",
            "na iteracao 30937 houve fusao de clouds\n",
            "na iteracao 30940 houve fusao de clouds\n",
            "na iteracao 30947 houve fusao de clouds\n",
            "na iteracao 30950 houve fusao de clouds\n",
            "na iteracao 30955 houve fusao de clouds\n",
            "na iteracao 30960 houve fusao de clouds\n",
            "na iteracao 30967 houve fusao de clouds\n",
            "na iteracao 30970 houve fusao de clouds\n",
            "na iteracao 30979 houve fusao de clouds\n",
            "na iteracao 30989 houve fusao de clouds\n",
            "na iteracao 31006 houve fusao de clouds\n",
            "na iteracao 31031 houve fusao de clouds\n",
            "na iteracao 31055 houve fusao de clouds\n",
            "na iteracao 31082 houve fusao de clouds\n",
            "na iteracao 31096 houve fusao de clouds\n",
            "na iteracao 31106 houve fusao de clouds\n",
            "na iteracao 31114 houve fusao de clouds\n",
            "na iteracao 31126 houve fusao de clouds\n",
            "na iteracao 31132 houve fusao de clouds\n",
            "na iteracao 31151 houve fusao de clouds\n",
            "na iteracao 31198 houve fusao de clouds\n",
            "na iteracao 31410 houve fusao de clouds\n",
            "na iteracao 31507 houve fusao de clouds\n",
            "na iteracao 31609 houve fusao de clouds\n",
            "na iteracao 31612 houve fusao de clouds\n",
            "na iteracao 32756 houve fusao de clouds\n",
            "na iteracao 33781 houve fusao de clouds\n",
            "na iteracao 34864 houve fusao de clouds\n",
            "na iteracao 34881 houve fusao de clouds\n",
            "na iteracao 34881 houve fusao de clouds\n",
            "na iteracao 34891 houve fusao de clouds\n",
            "na iteracao 34892 houve fusao de clouds\n",
            "na iteracao 34903 houve fusao de clouds\n",
            "na iteracao 34903 houve fusao de clouds\n",
            "na iteracao 34945 houve fusao de clouds\n",
            "na iteracao 34945 houve fusao de clouds\n",
            "na iteracao 34957 houve fusao de clouds\n",
            "na iteracao 34974 houve fusao de clouds\n",
            "na iteracao 35010 houve fusao de clouds\n",
            "na iteracao 35014 houve fusao de clouds\n",
            "na iteracao 35017 houve fusao de clouds\n",
            "na iteracao 35021 houve fusao de clouds\n",
            "na iteracao 35021 houve fusao de clouds\n",
            "na iteracao 35046 houve fusao de clouds\n",
            "na iteracao 35046 houve fusao de clouds\n",
            "na iteracao 35055 houve fusao de clouds\n",
            "na iteracao 35055 houve fusao de clouds\n",
            "na iteracao 35065 houve fusao de clouds\n",
            "na iteracao 35065 houve fusao de clouds\n",
            "na iteracao 35071 houve fusao de clouds\n",
            "na iteracao 35079 houve fusao de clouds\n",
            "na iteracao 35079 houve fusao de clouds\n",
            "na iteracao 35091 houve fusao de clouds\n",
            "na iteracao 35091 houve fusao de clouds\n",
            "na iteracao 35097 houve fusao de clouds\n",
            "na iteracao 35123 houve fusao de clouds\n",
            "na iteracao 35154 houve fusao de clouds\n",
            "na iteracao 35177 houve fusao de clouds\n",
            "na iteracao 35185 houve fusao de clouds\n",
            "na iteracao 35188 houve fusao de clouds\n",
            "na iteracao 35203 houve fusao de clouds\n",
            "na iteracao 35215 houve fusao de clouds\n",
            "na iteracao 35240 houve fusao de clouds\n",
            "na iteracao 35240 houve fusao de clouds\n",
            "na iteracao 35248 houve fusao de clouds\n",
            "na iteracao 35262 houve fusao de clouds\n",
            "na iteracao 35262 houve fusao de clouds\n",
            "na iteracao 35270 houve fusao de clouds\n",
            "na iteracao 35270 houve fusao de clouds\n",
            "na iteracao 35281 houve fusao de clouds\n",
            "na iteracao 35281 houve fusao de clouds\n",
            "na iteracao 35284 houve fusao de clouds\n",
            "na iteracao 35297 houve fusao de clouds\n",
            "na iteracao 35314 houve fusao de clouds\n",
            "na iteracao 35314 houve fusao de clouds\n",
            "na iteracao 35468 houve fusao de clouds\n",
            "na iteracao 35535 houve fusao de clouds\n",
            "na iteracao 35594 houve fusao de clouds\n",
            "na iteracao 35650 houve fusao de clouds\n",
            "na iteracao 35722 houve fusao de clouds\n",
            "na iteracao 35722 houve fusao de clouds\n",
            "na iteracao 35732 houve fusao de clouds\n",
            "na iteracao 35779 houve fusao de clouds\n",
            "na iteracao 36071 houve fusao de clouds\n",
            "na iteracao 36075 houve fusao de clouds\n",
            "na iteracao 36213 houve fusao de clouds\n",
            "na iteracao 36220 houve fusao de clouds\n",
            "na iteracao 36244 houve fusao de clouds\n",
            "na iteracao 36265 houve fusao de clouds\n",
            "na iteracao 36298 houve fusao de clouds\n",
            "na iteracao 36324 houve fusao de clouds\n",
            "na iteracao 36351 houve fusao de clouds\n",
            "na iteracao 36373 houve fusao de clouds\n",
            "na iteracao 36392 houve fusao de clouds\n",
            "na iteracao 36406 houve fusao de clouds\n",
            "na iteracao 36425 houve fusao de clouds\n",
            "na iteracao 36443 houve fusao de clouds\n",
            "na iteracao 36469 houve fusao de clouds\n",
            "na iteracao 36499 houve fusao de clouds\n",
            "na iteracao 36510 houve fusao de clouds\n",
            "na iteracao 36525 houve fusao de clouds\n",
            "na iteracao 36534 houve fusao de clouds\n",
            "na iteracao 36553 houve fusao de clouds\n",
            "na iteracao 36563 houve fusao de clouds\n",
            "na iteracao 36594 houve fusao de clouds\n",
            "na iteracao 36620 houve fusao de clouds\n",
            "na iteracao 36640 houve fusao de clouds\n",
            "na iteracao 36644 houve fusao de clouds\n",
            "na iteracao 36657 houve fusao de clouds\n",
            "na iteracao 36660 houve fusao de clouds\n",
            "na iteracao 36682 houve fusao de clouds\n",
            "na iteracao 36690 houve fusao de clouds\n",
            "na iteracao 36713 houve fusao de clouds\n",
            "na iteracao 36722 houve fusao de clouds\n",
            "na iteracao 36729 houve fusao de clouds\n",
            "na iteracao 36757 houve fusao de clouds\n",
            "na iteracao 36786 houve fusao de clouds\n",
            "na iteracao 36814 houve fusao de clouds\n",
            "na iteracao 36933 houve fusao de clouds\n",
            "na iteracao 36955 houve fusao de clouds\n",
            "na iteracao 36982 houve fusao de clouds\n",
            "na iteracao 37007 houve fusao de clouds\n",
            "na iteracao 37024 houve fusao de clouds\n",
            "na iteracao 37057 houve fusao de clouds\n",
            "na iteracao 37060 houve fusao de clouds\n",
            "na iteracao 37085 houve fusao de clouds\n",
            "na iteracao 37098 houve fusao de clouds\n",
            "na iteracao 37111 houve fusao de clouds\n",
            "na iteracao 37129 houve fusao de clouds\n",
            "na iteracao 37139 houve fusao de clouds\n",
            "na iteracao 37160 houve fusao de clouds\n",
            "na iteracao 37174 houve fusao de clouds\n",
            "na iteracao 37194 houve fusao de clouds\n",
            "na iteracao 37212 houve fusao de clouds\n",
            "na iteracao 38255 houve fusao de clouds\n",
            "na iteracao 53946 houve fusao de clouds\n",
            "na iteracao 56278 houve fusao de clouds\n",
            "na iteracao 57082 houve fusao de clouds\n",
            "na iteracao 75523 houve fusao de clouds\n",
            "na iteracao 80262 houve fusao de clouds\n",
            "na iteracao 87447 houve fusao de clouds\n",
            "na iteracao 87472 houve fusao de clouds\n",
            "--------------------------------\n",
            "cloud numero 1\n",
            "n: 89400.0 mean: [9.94563201e+02 3.97632997e+02 3.11460548e-02] variance: 497825961.9207429\n",
            "+++++++++++++++++++++++++++++++\n",
            "cloud numero 2\n",
            "n: 144.0 mean: [4.20832759e+02 2.26529434e+01 3.49458333e-02] variance: 586.4251643076628\n",
            "+++++++++++++++++++++++++++++++\n",
            "cloud numero 3\n",
            "n: 276 mean: [6.68388406e+03 0.00000000e+00 6.45441338e-01] variance: 662716.5267395227\n",
            "+++++++++++++++++++++++++++++++\n"
          ]
        }
      ],
      "source": [
        "teste=AutoCloud(1.8) # valor do parametro m\n",
        "j= 88000 #Define a quantidade de amostras serão usadas\n",
        "for dado in dados[:j]:\n",
        "    teste.run(np.array(dado))\n",
        "print('--------------------------------')\n",
        "for k,cloud in enumerate(teste.c,start=0):\n",
        "    print(f'cloud numero {k+1}')\n",
        "    print('n:',cloud.n,'mean:',cloud.mean,'variance:',cloud.variance)\n",
        "    print('+++++++++++++++++++++++++++++++')\n"
      ]
    },
    {
      "cell_type": "code",
      "execution_count": 28,
      "metadata": {},
      "outputs": [
        {
          "name": "stderr",
          "output_type": "stream",
          "text": [
            "/tmp/ipykernel_8885/2247420822.py:9: MatplotlibDeprecationWarning:\n",
            "\n",
            "The get_cmap function was deprecated in Matplotlib 3.7 and will be removed in 3.11. Use ``matplotlib.colormaps[name]`` or ``matplotlib.colormaps.get_cmap()`` or ``pyplot.get_cmap()`` instead.\n",
            "\n"
          ]
        },
        {
          "data": {
            "image/png": "[encoded data removed]",
            "text/plain": [
              "<Figure size 500x500 with 1 Axes>"
            ]
          },
          "metadata": {},
          "output_type": "display_data"
        }
      ],
      "source": [
        "\n",
        "# Criar figura e eixos 3D\n",
        "fig = plt.figure(figsize=(5, 5))\n",
        "ax = fig.add_subplot(111, projection='3d')     \n",
        "\n",
        "j = 88000 # Quantidade de amostras usadas\n",
        "\n",
        "# Gerar cores únicas para cada centróide\n",
        "num_centroides = len(teste.c)\n",
        "cores_centroides = plt.cm.get_cmap(\"tab10\", num_centroides)  # Escolher um mapa de cores\n",
        "\n",
        "# Criar um array para armazenar as cores dos centroides\n",
        "centroides = np.array([cloud.mean[:3] for cloud in teste.c])  # Pegar apenas as 3 primeiras dimensões\n",
        "cores = [cores_centroides(i) for i in range(num_centroides)]\n",
        "\n",
        "# Criar KDTree para encontrar o centróide mais próximo de cada amostra\n",
        "tree = cKDTree(centroides)\n",
        "amostras = np.column_stack((f1[:j], f2[:j], f3[:j]))  # Criar matriz com as 3 primeiras features\n",
        "distancias, indices = tree.query(amostras)  # Encontra o centróide mais próximo\n",
        "\n",
        "# Plotar os centroides\n",
        "for i, cloud in enumerate(teste.c):\n",
        "    m = cloud.mean[:3]  # Usar apenas as 3 primeiras dimensões\n",
        "    ax.scatter(m[0], m[1], m[2], marker='x', s=150, color=cores[i], label=f'Centroide {i+1}')\n",
        "\n",
        "# Plotar as amostras com cores correspondentes aos centroides mais próximos\n",
        "ax.scatter(f1[:j], f2[:j], f3[:j], c=[cores[i] for i in indices], marker='+', s=40, label='Amostras')\n",
        "\n",
        "# Rótulos dos eixos\n",
        "ax.set_xlabel('f1 (tcp.len)')\n",
        "ax.set_ylabel('f2 (mqtt.len)')\n",
        "ax.set_zlabel('f3 (tcp.time_delta)')\n",
        "\n",
        "# Título e legenda\n",
        "ax.set_title(f'Visualização das Nuvens do AutoCloud (Primeiras {j} Amostras)')\n",
        "ax.legend(loc='upper right')\n",
        "\n",
        "plt.show()"
      ]
    },
    {
      "cell_type": "code",
      "execution_count": 29,
      "metadata": {},
      "outputs": [
        {
          "data": {
            "text/plain": [
              "\"\\n# Criar figura e eixos 3D para ver centroides e clouds\\nfig = plt.figure(figsize=(5, 5))\\nax = fig.add_subplot(111, projection='3d')\\nj=88000 #Define a quantidade de amostras serão usadas\\n# Plotar os pontos\\n\\nfor cloud in teste.c:\\n    m = cloud.mean\\n    ax.scatter(m[0], m[1], m[2],  marker='o', s=40, label='Centroide')\\nax.scatter(f1[0:j], f2[0:j], f3[0:j], c='red', marker='+', s=20, label='Pontos')\\n\\n# Rótulos dos eixos\\nax.set_xlabel('Eixo f1')\\nax.set_ylabel('Eixo f2')\\nax.set_zlabel('Eixo f3')\\n\\n# Título e legenda\\nax.set_title('Gráfico de Pontos 3D')\\nax.legend('upper right')\\nplt.show()'\\n\""
            ]
          },
          "execution_count": 29,
          "metadata": {},
          "output_type": "execute_result"
        }
      ],
      "source": [
        "'''\n",
        "# Criar figura e eixos 3D para ver centroides e clouds\n",
        "fig = plt.figure(figsize=(5, 5))\n",
        "ax = fig.add_subplot(111, projection='3d')\n",
        "j=88000 #Define a quantidade de amostras serão usadas\n",
        "# Plotar os pontos\n",
        "\n",
        "for cloud in teste.c:\n",
        "    m = cloud.mean\n",
        "    ax.scatter(m[0], m[1], m[2],  marker='o', s=40, label='Centroide')\n",
        "ax.scatter(f1[0:j], f2[0:j], f3[0:j], c='red', marker='+', s=20, label='Pontos')\n",
        "\n",
        "# Rótulos dos eixos\n",
        "ax.set_xlabel('Eixo f1')\n",
        "ax.set_ylabel('Eixo f2')\n",
        "ax.set_zlabel('Eixo f3')\n",
        "\n",
        "# Título e legenda\n",
        "ax.set_title('Gráfico de Pontos 3D')\n",
        "ax.legend('upper right')\n",
        "plt.show()'\n",
        "'''"
      ]
    },
    {
      "cell_type": "code",
      "execution_count": 30,
      "metadata": {},
      "outputs": [
        {
          "name": "stdout",
          "output_type": "stream",
          "text": [
            "     f1   f2        f3\n",
            "0   0.0  0.0  0.000000\n",
            "1   0.0  0.0  0.000017\n",
            "2   0.0  0.0  0.000000\n",
            "3   0.0  0.0  0.000015\n",
            "4   0.0  0.0  0.000000\n",
            "5   0.0  0.0  0.000009\n",
            "6   0.0  0.0  0.000000\n",
            "7   0.0  0.0  0.000007\n",
            "8   0.0  0.0  0.000000\n",
            "9   0.0  0.0  0.000007\n",
            "10  0.0  0.0  0.000000\n",
            "11  0.0  0.0  0.000006\n",
            "12  0.0  0.0  0.000000\n",
            "13  0.0  0.0  0.000007\n",
            "14  0.0  0.0  0.000000\n",
            "15  0.0  0.0  0.000010\n",
            "16  0.0  0.0  0.000000\n",
            "17  0.0  0.0  0.000006\n",
            "18  0.0  0.0  0.000000\n",
            "19  0.0  0.0  0.000006\n",
            "20  0.0  0.0  0.000000\n",
            "21  0.0  0.0  0.000009\n",
            "22  0.0  0.0  0.000000\n",
            "23  0.0  0.0  0.000003\n",
            "24  0.0  0.0  0.000000\n"
          ]
        },
        {
          "data": {
            "text/plain": [
              "<matplotlib.collections.PathCollection at 0x799362b4fb30>"
            ]
          },
          "execution_count": 30,
          "metadata": {},
          "output_type": "execute_result"
        },
        {
          "data": {
            "image/png": "[encoded data removed]",
            "text/plain": [
              "<Figure size 640x480 with 1 Axes>"
            ]
          },
          "metadata": {},
          "output_type": "display_data"
        }
      ],
      "source": [
        "j=25 #Define a quantidade de amostras serão usadas\n",
        "f = np.array([f1[:j],f2[:j],f3[:j]]).T\n",
        "df_teste = pd.DataFrame(f)\n",
        "df_teste.columns = ['f1','f2','f3',]\n",
        "print(df_teste)\n",
        "plt.scatter(f1[:j],f2[:j])"
      ]
    },
    {
      "cell_type": "code",
      "execution_count": 31,
      "metadata": {},
      "outputs": [
        {
          "data": {
            "text/plain": [
              "[<matplotlib.lines.Line2D at 0x79936368f860>]"
            ]
          },
          "execution_count": 31,
          "metadata": {},
          "output_type": "execute_result"
        },
        {
          "data": {
            "image/png": "[encoded data removed]",
            "text/plain": [
              "<Figure size 640x480 with 1 Axes>"
            ]
          },
          "metadata": {},
          "output_type": "display_data"
        }
      ],
      "source": [
        "plt.plot(dados.T[0],dados.T[2],'.g')"
      ]
    },
    {
      "cell_type": "code",
      "execution_count": 32,
      "metadata": {},
      "outputs": [
        {
          "data": {
            "text/plain": [
              "[<matplotlib.lines.Line2D at 0x79936367ad50>]"
            ]
          },
          "execution_count": 32,
          "metadata": {},
          "output_type": "execute_result"
        },
        {
          "data": {
            "image/png": "[encoded data removed]",
            "text/plain": [
              "<Figure size 640x480 with 1 Axes>"
            ]
          },
          "metadata": {},
          "output_type": "display_data"
        }
      ],
      "source": [
        "plt.plot(df['TCP Len'],df['MQTT Len'],'.g')"
      ]
    },
    {
      "cell_type": "markdown",
      "metadata": {},
      "source": [
        "#Processa todas as amostras para o conjunto completo de dados"
      ]
    },
    {
      "cell_type": "code",
      "execution_count": 33,
      "metadata": {},
      "outputs": [],
      "source": [
        "dados= dados.T\n",
        "teste=AutoCloud(2)\n",
        "for t in dados:\n",
        "    teste.run(np.array(t))"
      ]
    },
    {
      "cell_type": "code",
      "execution_count": 34,
      "metadata": {},
      "outputs": [
        {
          "data": {
            "text/plain": [
              "array([[0.0000e+00, 0.0000e+00, 0.0000e+00, ..., 2.8960e+03, 0.0000e+00,\n",
              "        2.8960e+03],\n",
              "       [0.0000e+00, 0.0000e+00, 0.0000e+00, ..., 0.0000e+00, 0.0000e+00,\n",
              "        0.0000e+00],\n",
              "       [0.0000e+00, 1.6736e-05, 0.0000e+00, ..., 1.0000e-08, 3.9940e-06,\n",
              "        1.5000e-08]], shape=(3, 88113))"
            ]
          },
          "execution_count": 34,
          "metadata": {},
          "output_type": "execute_result"
        }
      ],
      "source": [
        "dados"
      ]
    }
  ],
  "metadata": {
    "colab": {
      "provenance": [],
      "toc_visible": true
    },
    "kernelspec": {
      "display_name": "venv",
      "language": "python",
      "name": "python3"
    },
    "language_info": {
      "codemirror_mode": {
        "name": "ipython",
        "version": 3
      },
      "file_extension": ".py",
      "mimetype": "text/x-python",
      "name": "python",
      "nbconvert_exporter": "python",
      "pygments_lexer": "ipython3",
      "version": "3.12.3"
    }
  },
  "nbformat": 4,
  "nbformat_minor": 0
}
