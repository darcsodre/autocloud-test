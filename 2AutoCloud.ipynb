{
  "cells": [
    {
      "cell_type": "markdown",
      "metadata": {},
      "source": [
        "Este código implementa o algoritmo AutoCloud, uma abordagem baseada em aprendizado não supervisionado para a detecção de padrões e agrupamento de dados."
      ]
    },
    {
      "cell_type": "code",
      "execution_count": 2,
      "metadata": {
        "id": "2BBCVTvDfH1c"
      },
      "outputs": [],
      "source": [
        "import pandas as pd\n",
        "import numpy as np\n",
        "import matplotlib.pyplot as plt\n",
        "import seaborn as sns\n",
        "import matplotlib.pyplot as plt\n",
        "from matplotlib.lines import Line2D\n",
        "from sklearn.preprocessing import StandardScaler\n",
        "from mpl_toolkits.mplot3d import Axes3D\n",
        "from plotly.subplots import make_subplots\n",
        "from plotly.offline import plot\n",
        "import plotly.graph_objects as go\n"
      ]
    },
    {
      "cell_type": "code",
      "execution_count": 3,
      "metadata": {
        "id": "-VyEywC73IO5"
      },
      "outputs": [],
      "source": [
        "listaCor =np.array(['#4C72B0','#DD8452','#55A868','#C44E52','#8172B3','#937860','#DA8BC3','#8C8C8C','#CCB974','#64B5CD'])"
      ]
    },
    {
      "cell_type": "code",
      "execution_count": 4,
      "metadata": {
        "id": "YZJVjEFmfH1h"
      },
      "outputs": [],
      "source": [
        "class DataCloud:\n",
        "\tN=0 #Conta o número total de nuvens de dados criadas.\n",
        "\tdef __init__(self,x): #É chamado quando uma nova instância de DataCloud é criada.\n",
        "\t\tself.n=1 #Inicializa o n de pontos na nuvem como 1, pois estamos adicionando o primeiro ponto x.\n",
        "\t\tself.mean=x #Inicializa a média da nuvem como o valor do primeiro ponto x. A média é o centro da nuvem.\n",
        "\t\tself.variance=0 #Inicializa a variância como 0, pois com apenas um ponto, não há dispersão.\n",
        "\t\tself.pertinency=1 #Inicializa o grau de pertinência como 1, indicando que o ponto pertence completamente à nuvem.\n",
        "\t\tDataCloud.N+=1 #Incrementa o contador de nuvens de dados criadas.\n",
        "\tdef addDataClaud(self,x):\n",
        "\t\tself.n=2 #Define o n de pontos na nuvem como 2, assumindo que estamos adicionando um segundo ponto\n",
        "\t\tself.mean=(self.mean+x)/2 #Atualiza a média da nuvem. A nova média é a média aritmética entre a média anterior e o novo ponto x.\n",
        "\t\tself.variance=((np.linalg.norm(self.mean-x))**2) #Atualiza a variância da nuvem. A variância é calculada como o quadrado da distância entre a nova média e o novo ponto x.\n",
        "\tdef updateDataCloud(self,n,mean,variance): #Este método atualiza os atributos da nuvem de dados com novos valores.\n",
        "\t\tself.n=n #Atualiza o número de pontos na nuvem.\n",
        "\t\tself.mean=mean #Atualiza a média da nuvem.\n",
        "\t\tself.variance=variance #Atualiza a variância da nuvem.\n"
      ]
    },
    {
      "cell_type": "code",
      "execution_count": 5,
      "metadata": {
        "id": "SqqyO6VBfH1m"
      },
      "outputs": [],
      "source": [
        "class AutoCloud:\n",
        "\tc= np.array([DataCloud(0)],dtype=DataCloud)\n",
        "\talfa= np.array([0.0],dtype=float)\n",
        "\tintersection = np.zeros((1,1),dtype=int)\n",
        "\tlistIntersection = np.zeros((1),dtype=int)\n",
        "\tmatrixIntersection = np.zeros((1,1),dtype=int)\n",
        "\trelevanceList = np.zeros((1),dtype=int)\n",
        "\tk=1\n",
        "\tdef __init__(self, m):\n",
        "\t\tAutoCloud.m = m\n",
        "\t\tAutoCloud.c= np.array([DataCloud(0)],dtype=DataCloud)\n",
        "\t\tAutoCloud.alfa= np.array([0.0],dtype=float)\n",
        "\t\tAutoCloud.intersection = np.zeros((1,1),dtype=int)\n",
        "\t\tAutoCloud.listIntersection = np.zeros((1),dtype=int)\n",
        "\t\tAutoCloud.relevanceList = np.zeros((1),dtype=int)\n",
        "\t\tAutoCloud.matrixIntersection = np.zeros((1,1),dtype=int)\n",
        "\t\tAutoCloud.classIndex = []\n",
        "\t\tAutoCloud.k = 1\n",
        "\n",
        "\tdef mergeClouds(self):\n",
        "\t\ti=0\n",
        "\t\twhile(i<len(AutoCloud.listIntersection)-1):\n",
        "\t\t\tmerge=False\n",
        "\t\t\tj=i+1\n",
        "\t\t\twhile(j<len(AutoCloud.listIntersection)):\n",
        "\t\t\t\t#print(\"i\",i,\"j\",j,\"l\",np.size(AutoCloud.listIntersection),\"m\",np.size(AutoCloud.matrixIntersection),\"c\",np.size(AutoCloud.c))\n",
        "\t\t\t\tif(AutoCloud.listIntersection[i] == 1 and AutoCloud.listIntersection[j] == 1):\n",
        "\t\t\t\t\tAutoCloud.matrixIntersection[i,j] = AutoCloud.matrixIntersection[i,j] + 1;\n",
        "\t\t\t\tnI = AutoCloud.c[i].n\n",
        "\t\t\t\tnJ = AutoCloud.c[j].n\n",
        "\t\t\t\tmeanI = AutoCloud.c[i].mean\n",
        "\t\t\t\tmeanJ = AutoCloud.c[j].mean\n",
        "\t\t\t\tvarianceI = AutoCloud.c[i].variance\n",
        "\t\t\t\tvarianceJ = AutoCloud.c[j].variance\n",
        "\t\t\t\tnIntersc = AutoCloud.matrixIntersection[i,j]\n",
        "\t\t\t\tif (nIntersc > (nI - nIntersc) or nIntersc > (nJ - nIntersc)):\n",
        "\t\t\t\t\tprint(f'na iteracao {self.k} houve fusao de clouds')\n",
        "\t\t\t\t\tmerge = True\n",
        "\t\t\t\t\t#update values\n",
        "\t\t\t\t\tn = nI + nJ - nIntersc\n",
        "\t\t\t\t\tmean = ((nI * meanI) + (nJ * meanJ))/(nI + nJ)\n",
        "\t\t\t\t\tvariance = ((nI - 1) * varianceI + (nJ - 1) * varianceJ)/(nI + nJ - 2)\n",
        "\t\t\t\t\tnewCloud = DataCloud(mean)\n",
        "\t\t\t\t\tnewCloud.updateDataCloud(n,mean,variance)\n",
        "\t\t\t\t\t#atualizando lista de interseção\n",
        "\t\t\t\t\tAutoCloud.listIntersection = np.concatenate((AutoCloud.listIntersection[0 : i], np.array([1]), AutoCloud.listIntersection[i + 1 : j],AutoCloud.listIntersection[j + 1 : np.size(AutoCloud.listIntersection)]),axis=None)\n",
        "\t\t\t\t\t#atualizando lista de data clouds\n",
        "\t\t\t\t\tAutoCloud.c = np.concatenate((AutoCloud.c[0 : i ], np.array([newCloud]), AutoCloud.c[i + 1 : j],AutoCloud.c[j + 1 : np.size(AutoCloud.c)]),axis=None)\n",
        "\t\t\t\t\t#update  intersection matrix\n",
        "\t\t\t\t\tM0 = AutoCloud.matrixIntersection\n",
        "\t\t\t\t\t#Remover linhas\n",
        "\t\t\t\t\tM1=np.concatenate((M0[0 : i , :],np.zeros((1,len(M0))),M0[i + 1 : j, :],M0[j + 1 : len(M0), :]))\n",
        "\t\t\t\t\t#remover colunas\n",
        "\t\t\t\t\tM1=np.concatenate((M1[:, 0 : i ],np.zeros((len(M1),1)),M1[:, i+1 : j],M1[:, j+1 : len(M0)]),axis=1)\n",
        "\t\t\t\t\t#calculando nova coluna\n",
        "\t\t\t\t\tcol = (M0[:, i] + M0[:, j])*(M0[: , i]*M0[:, j] != 0)\n",
        "\t\t\t\t\tcol = np.concatenate((col[0 : j], col[j + 1 : np.size(col)]))\n",
        "\t\t\t\t\t#calculando nova linha\n",
        "\t\t\t\t\tlin = (M0[i, :]+M0[j, :])*(M0[i, :]*M0[j, :] != 0)\n",
        "\t\t\t\t\tlin = np.concatenate((lin[ 0 : j], lin[j + 1 : np.size(lin)]))\n",
        "\t\t\t\t\t#atualizando coluna\n",
        "\t\t\t\t\tM1[:,i]=col\n",
        "\t\t\t\t\t#atualizando linha\n",
        "\t\t\t\t\tM1[i,:]=lin\n",
        "\t\t\t\t\tM1[i, i + 1 : j] = M0[i, i + 1 : j] + M0[i + 1 : j, j].T;\n",
        "\t\t\t\t\tAutoCloud.matrixIntersection = M1\n",
        "\t\t\t\tj += 1\n",
        "\t\t\tif(merge):\n",
        "\t\t\t\ti = 0\n",
        "\t\t\telse:\n",
        "\t\t\t\ti += 1\n",
        "\n",
        "\tdef run(self,X):\n",
        "\t\tAutoCloud.listIntersection = np.zeros((np.size(AutoCloud.c)),dtype=int)\n",
        "\t\tif AutoCloud.k==1:\n",
        "\t\t\tAutoCloud.c[0]=DataCloud(X)\n",
        "\t\t\tAutoCloud.classIndex.append(0)\n",
        "\t\telif AutoCloud.k==2:\n",
        "\t\t\tAutoCloud.c[0].addDataClaud(X)\n",
        "\t\t\tAutoCloud.classIndex.append(0)\n",
        "\t\telif AutoCloud.k>=3:\n",
        "\t\t\ti=0\n",
        "\t\t\tcreateCloud = True\n",
        "\t\t\tAutoCloud.alfa = np.zeros((np.size(AutoCloud.c)),dtype=float)\n",
        "\t\t\tfor data in AutoCloud.c:\n",
        "\t\t\t\tn= data.n +1\n",
        "\t\t\t\tmean = ((n-1)/n)*data.mean + (1/n)*X\n",
        "\t\t\t\tvariance = ((n-1)/n)*data.variance +(1/n)*((np.linalg.norm(X-mean))**2)\n",
        "\t\t\t\tif variance == 0:\n",
        "\t\t\t\t\teccentricity = 0\n",
        "\t\t\t\telse:\n",
        "\t\t\t\t\teccentricity = (1/n)+((mean-X).T.dot(mean-X))/(n*variance)\n",
        "\t\t\t\ttypicality = 1 - eccentricity\n",
        "\t\t\t\tnorm_eccentricity = eccentricity/2\n",
        "\t\t\t\tnorm_typicality = typicality/(AutoCloud.k-2)\n",
        "\t\t\t\tdata.eccAn = eccentricity\n",
        "\t\t\t\t#print('tiṕicidade normalizada',norm_typicality)\n",
        "\t\t\t\tif(norm_eccentricity<=(AutoCloud.m**2 +1)/(2*n)):\n",
        "\t\t\t\t\t#print('dentro do limiar. tipicidade normalizada:',norm_typicality)\n",
        "\t\t\t\t\tdata.updateDataCloud(n,mean,variance)\n",
        "\t\t\t\t\tAutoCloud.alfa[i] = norm_typicality\n",
        "\t\t\t\t\tcreateCloud= False\n",
        "\t\t\t\t\tAutoCloud.listIntersection[i] = 1\n",
        "\t\t\t\telse:\n",
        "\t\t\t\t\tAutoCloud.alfa[i] = 0\n",
        "\t\t\t\t\tAutoCloud.listIntersection[i] = 0\n",
        "\t\t\t\ti+=1\n",
        "\t\t\t\t\n",
        "\t\t\tif(createCloud):\n",
        "\t\t\t\tAutoCloud.c = np.append(AutoCloud.c,DataCloud(X))\n",
        "\t\t\t\tAutoCloud.listIntersection = np.insert(AutoCloud.listIntersection,i,1)\n",
        "\t\t\t\tAutoCloud.matrixIntersection = np.pad(AutoCloud.matrixIntersection, ((0,1),(0,1)), 'constant', constant_values=(0))\n",
        "\t\t\tself.mergeClouds()\n",
        "\t\t\t#print('AutoCloud.alfa:', AutoCloud.alfa)\n",
        "\t\t\tif np.sum(AutoCloud.alfa) >0:\n",
        "\t\t\t\tAutoCloud.relevanceList = AutoCloud.alfa /np.sum(AutoCloud.alfa)\n",
        "\t\t\tif np.sum(AutoCloud.alfa) == 0:\n",
        "\t\t\t\tAutoCloud.relevanceList = AutoCloud.alfa /np.inf\n",
        "\t\t\tclassIndex = np.argmax(AutoCloud.relevanceList)\n",
        "\t\t\tAutoCloud.classIndex.append(classIndex)\n",
        "\n",
        "\n",
        "\t\tAutoCloud.k=AutoCloud.k+1\n"
      ]
    },
    {
      "cell_type": "markdown",
      "metadata": {
        "id": "j4gc7EZXfH1r"
      },
      "source": [
        "#Carregamento e Pré-processamento de Dados"
      ]
    },
    {
      "cell_type": "code",
      "execution_count": null,
      "metadata": {},
      "outputs": [
        {
          "name": "stdout",
          "output_type": "stream",
          "text": [
            "            0    1             2\n",
            "0         0.0  0.0  0.000000e+00\n",
            "1         0.0  0.0  0.000000e+00\n",
            "2         0.0  0.0  0.000000e+00\n",
            "3         0.0  0.0  0.000000e+00\n",
            "4         0.0  0.0  0.000000e+00\n",
            "...       ...  ...           ...\n",
            "22024  2896.0  0.0  3.855423e-03\n",
            "22025  2896.0  0.0  3.872241e-03\n",
            "22026     0.0  0.0  1.237600e-05\n",
            "22027  2896.0  0.0  3.774380e-03\n",
            "22028  2896.0  0.0  1.500000e-08\n",
            "\n",
            "[22029 rows x 3 columns]\n"
          ]
        }
      ],
      "source": [
        "\n",
        "df = pd.read_csv('[coleta 2] captura_pacotes.csv', sep=',') #Selecionar colunas relevantes\n",
        "df_reduzido = df.iloc[::4, :] #Selecionar apenas uma a cada quatro amostras\n",
        "df_reduzido = df_reduzido.fillna(0) #Substituir valores NaN por zero em todo o dataframe\n",
        "#print(df.head())\n",
        "\n",
        "f1 = df_reduzido['TCP Len'].values\n",
        "f2 = df_reduzido['MQTT Len'].values\n",
        "f3 = df_reduzido['TCP Time Delta'].values\n",
        "\n",
        "df2= pd.DataFrame(np.array([f1,f2,f3])).T\n",
        "dados = np.array([f1,f2,f3]).T\n",
        "print(df2)\n",
        "#print(\"Forma original:\", dados.shape)\n",
        "#print(\"Forma transposta:\", dados.T.shape)\n"
      ]
    },
    {
      "cell_type": "code",
      "execution_count": 7,
      "metadata": {},
      "outputs": [
        {
          "data": {
            "text/plain": [
              "\"\\ndf = pd.read_csv('[coleta 2] captura_pacotes.csv', sep=',')\\nprint(df.head())\\nf1 = df['TCP Len'].values\\nf2 = df['MQTT Len'].values\\nf3 = df['TCP Time Delta'].values\\n\\ndf2= pd.DataFrame(np.array([f1,f2,f3])).T\\ndados = np.array([f1,f2,f3]).T\\nprint(df2)'\\n\""
            ]
          },
          "execution_count": 7,
          "metadata": {},
          "output_type": "execute_result"
        }
      ],
      "source": [
        "'''\n",
        "df = pd.read_csv('[coleta 2] captura_pacotes.csv', sep=',')\n",
        "print(df.head())\n",
        "f1 = df['TCP Len'].values\n",
        "f2 = df['MQTT Len'].values\n",
        "f3 = df['TCP Time Delta'].values\n",
        "\n",
        "df2= pd.DataFrame(np.array([f1,f2,f3])).T\n",
        "dados = np.array([f1,f2,f3]).T\n",
        "print(df2)'\n",
        "'''"
      ]
    },
    {
      "cell_type": "markdown",
      "metadata": {},
      "source": [
        "#Teste de verificação das cloud, processa uma amostra por vez."
      ]
    },
    {
      "cell_type": "code",
      "execution_count": 62,
      "metadata": {},
      "outputs": [],
      "source": [
        "i = 0\n",
        "teste=AutoCloud(2)"
      ]
    },
    {
      "cell_type": "code",
      "execution_count": 63,
      "metadata": {},
      "outputs": [
        {
          "data": {
            "text/plain": [
              "array([[0.00000e+00, 0.00000e+00, 0.00000e+00],\n",
              "       [0.00000e+00, 0.00000e+00, 0.00000e+00],\n",
              "       [0.00000e+00, 0.00000e+00, 0.00000e+00],\n",
              "       ...,\n",
              "       [0.00000e+00, 0.00000e+00, 1.23760e-05],\n",
              "       [2.89600e+03, 0.00000e+00, 3.77438e-03],\n",
              "       [2.89600e+03, 0.00000e+00, 1.50000e-08]], shape=(22029, 3))"
            ]
          },
          "execution_count": 63,
          "metadata": {},
          "output_type": "execute_result"
        }
      ],
      "source": [
        "dados"
      ]
    },
    {
      "cell_type": "code",
      "execution_count": 75,
      "metadata": {},
      "outputs": [
        {
          "name": "stdout",
          "output_type": "stream",
          "text": [
            "iteration: 12 x: [35. 33.  0.]\n",
            "----------------------------------\n",
            "cloud numero 1\n",
            "n: 11 mean: [0. 0. 0.] variance: 0.0\n",
            "+++++++++++++++++++++++++++++++\n",
            "cloud numero 2\n",
            "n: 1 mean: [35. 33.  0.] variance: 0\n",
            "+++++++++++++++++++++++++++++++\n"
          ]
        }
      ],
      "source": [
        "print('iteration:',i+1,'x:',dados[i])\n",
        "teste.run(np.array(dados[i]))\n",
        "i = i + 1\n",
        "print('----------------------------------')\n",
        "for j,cloud in enumerate(teste.c,start=0):\n",
        "    print(f'cloud numero {j+1}')\n",
        "    print('n:',cloud.n,'mean:',cloud.mean,'variance:',cloud.variance)\n",
        "    print('+++++++++++++++++++++++++++++++')\n"
      ]
    },
    {
      "cell_type": "markdown",
      "metadata": {},
      "source": [
        "##Teste do parâmetro m, que define a tolerância para a criação de novas nuvens."
      ]
    },
    {
      "cell_type": "code",
      "execution_count": 54,
      "metadata": {},
      "outputs": [
        {
          "data": {
            "application/vnd.plotly.v1+json": {
              "config": {
                "plotlyServerURL": "https://plot.ly"
              },
              "data": [
                {
                  "name": "m:1.25",
                  "type": "scatter",
                  "x": {
                    "bdata": "AQIDBAUGBwgJCgsMDQ4PEBESExQVFhcYGRobHB0eHyAhIiMkJSYnKCkqKywtLi8wMTIzNDU2Nzg5Ojs8PT4/QEFCQ0RFRkdISUpLTE1OT1BRUlNUVVZXWFlaW1xdXl9gYWJj",
                    "dtype": "i1"
                  },
                  "xaxis": "x",
                  "y": {
                    "bdata": "AAAAAACA9D8AAAAAAIDkP1VVVVVVVds/AAAAAACA1D9mZmZmZmbQP1VVVVVVVcs/27Zt27Ztxz8AAAAAAIDEP47jOI7jOMI/ZmZmZmZmwD/RRRdddNG9P1VVVVVVVbs/sRM7sRM7uT/btm3btm23P97d3d3d3bU/AAAAAACAtD9LS0tLS0uzP47jOI7jOLI/NpTXUF5DsT9mZmZmZmawP8/zPM/zPK8/0UUXXXTRrT/IQhaykIWsP1VVVVVVVas/PQrXo3A9qj+xEzuxEzupP76E9hLaS6g/27Zt27Ztpz9Y7mmE5Z6mP97d3d3d3aU/KaWUUkoppT8AAAAAAICkP+GDDz744KM/S0tLS0tLoz/jK77iK76iP47jOI7jOKI/rRtMkc+6oT82lNdQXkOhPyEN0iAN0qA/ZmZmZmZmoD8AAAAAAACgP8/zPM/zPJ8/oS/oC/qCnj/RRRdddNGdP33SJ33SJ50/yEIWspCFnD/wbNR3NuqbP1VVVVVVVZs/sj401ofGmj89CtejcD2aP7q5ubm5uZk/sRM7sRM7mT+4ss8hNcGYP76E9hLaS5g/2zesfcPalz/btm3btm2XP0hwH8F9BJc/WO5phOWelj8JGk7qvjyWP97d3d3d3ZU/m/cpLhmClT8ppZRSSimVPzVN0zRN05Q/AAAAAACAlD/0Qi/0Qi+UP+GDDz744JM/fjUm0gOVkz9LS0tLS0uTPzDXDsy1A5M/4yu+4iu+kj9TT8Zvl3qSP47jOI7jOJI/kB8/fvz4kT+tG0yRz7qRP36x5BdLfpE/NpTXUF5DkT/lJ8RZ+QmRPyEN0iAN0pA/N2F+V4ubkD9mZmZmZmaQP9St+WGRMpA/AAAAAAAAkD8xUMIbTZ2PP8/zPM/zPI8/397e3t7ejj+hL+gL+oKOPyCT4gUyKY4/0UUXXXTRjT/Yve51r3uNP33SJ33SJ40/Xc3VXM3VjD/IQhaykIWMPzfccMMNN4w/8GzUdzbqiz/wuSVO/Z6LP1VVVVVVVYs/283yJDINiz+yPjTWh8aKPywFav1KgYo/",
                    "dtype": "f8"
                  },
                  "yaxis": "y"
                },
                {
                  "name": "m:1.5",
                  "type": "scatter",
                  "x": {
                    "bdata": "AQIDBAUGBwgJCgsMDQ4PEBESExQVFhcYGRobHB0eHyAhIiMkJSYnKCkqKywtLi8wMTIzNDU2Nzg5Ojs8PT4/QEFCQ0RFRkdISUpLTE1OT1BRUlNUVVZXWFlaW1xdXl9gYWJj",
                    "dtype": "i1"
                  },
                  "xaxis": "x",
                  "y": {
                    "bdata": "AAAAAAAA+j8AAAAAAADqP1VVVVVVVeE/AAAAAAAA2j/NzMzMzMzUP1VVVVVVVdE/btu2bdu2zT8AAAAAAADKP8dxHMdxHMc/zczMzMzMxD/poosuuujCP1VVVVVVVcE/AAAAAAAAwD9u27Zt27a9P7y7u7u7u7s/AAAAAAAAuj94eHh4eHi4P8dxHMdxHLc/UV5DeQ3ltT/NzMzMzMy0P/Q8z/M8z7M/6aKLLrrosj8hC1nIQhayP1VVVVVVVbE/pHA9CtejsD8AAAAAAACwPwntJbSX0K4/btu2bdu2rT/UCMs9jbCsP7y7u7u7u6s/11prrbXWqj8AAAAAAACqPzbZZJNNNqk/eHh4eHh4qD9YfMVXfMWnP8dxHMdxHKc/yWfdYIp8pj9RXkN5DeWlP1VVVVVVVaU/zczMzMzMpD9L1K5E7UqkP/Q8z/M8z6M/1pQ1ZU1Zoz/poosuuuiiP9InfdInfaI/IQtZyEIWoj9HfWejvrOhP1VVVVVVVaE/PzTWh8b6oD+kcD0K16OgP1BQUFBQUKA/AAAAAAAAoD86pCYYb2WfPwntJbSX0J4/QZ4S5ClBnj9u27Zt27adPxbTWUxnMZ0/1AjLPY2wnD91Xx5bETScP7y7u7u7u5s/n+KSIVhHmz/XWmuttdaaP5qmaZqmaZo/AAAAAAAAmj+amZmZmZmZPzbZZJNNNpk/BJWzW/jVmD94eHh4eHiYP4K5dmCuHZg/WHzFV3zFlz/57VJPxm+XP8dxHMdxHJc/tmzZsmXLlj/JZ91ginyWPzCW/GLJL5Y/UV5DeQ3llT8KcVZ+QpyVP1VVVVVVVZU/ICod2TMQlT/NzMzMzMyUPwaebs0Pi5Q/S9SuRO1KlD/6tYdcVgyUP/Q8z/M8z5M/lJOTk5OTkz/WlDVlTVmTP+MFMileIJM/6aKLLrrokj8rWclKVrKSP9InfdInfZI/kiRJkiRJkj8hC1nIQhaSP+SRRx555JE/R31no76zkT9BGGnHCoSRP1VVVVVVVZE/kWnYbpYnkT8/NNaHxvqQP3o7Q2LezpA/",
                    "dtype": "f8"
                  },
                  "yaxis": "y"
                },
                {
                  "name": "m:2.0",
                  "type": "scatter",
                  "x": {
                    "bdata": "AQIDBAUGBwgJCgsMDQ4PEBESExQVFhcYGRobHB0eHyAhIiMkJSYnKCkqKywtLi8wMTIzNDU2Nzg5Ojs8PT4/QEFCQ0RFRkdISUpLTE1OT1BRUlNUVVZXWFlaW1xdXl9gYWJj",
                    "dtype": "i1"
                  },
                  "xaxis": "x",
                  "y": {
                    "bdata": "AAAAAAAABEAAAAAAAAD0P6uqqqqqquo/AAAAAAAA5D8AAAAAAADgP6uqqqqqqto/t23btm3b1j8AAAAAAADUP3Icx3Ecx9E/AAAAAAAA0D8XXXTRRRfNP6uqqqqqqso/2Ymd2ImdyD+3bdu2bdvGP1VVVVVVVcU/AAAAAAAAxD/T0tLS0tLCP3Icx3Ecx8E/eQ3lNZTXwD8AAAAAAADAP57neZ7neb4/F1100UUXvT+96U1vetO7P6uqqqqqqro/mpmZmZmZuT/ZiZ3YiZ24P0J7Ce0ltLc/t23btm3btj98GmG5pxG2P1VVVVVVVbU/pZRSSimltD8AAAAAAAC0P2WTTTbZZLM/09LS0tLSsj+SJEmSJEmyP3Icx3Ecx7E/whT5rBtMsT95DeU1lNewP5AGaZAGabA/AAAAAAAAsD84H4PzMTivP57neZ7nea4/cUfcEXfErT8XXXTRRRetPxzHcRzHcaw/velNb3rTqz9t1Hc26jurP6uqqqqqqqo/iMb60Fgfqj+amZmZmZmpPxkZGRkZGak/2Ymd2ImdqD/yVvY5pCaoP0J7Ce0ltKc/RhdddNFFpz+3bdu2bdumP0xnMZ3FdKY/fBphuacRpj/QcFL35bGlP1VVVVVVVaU/yRCso837pD+llFJKKaWkPxRFURRFUaQ/AAAAAAAApD8UO7ETO7GjP2WTTTbZZKM/oHJ2C78aoz/T0tLS0tKiPynxM0r8jKI/kiRJkiRJoj/nQKIVNgeiP3Icx3Ecx6E/jBgxYsSIoT/CFPmsG0yhPxEREREREaE/eQ3lNZTXoD9WfkKclZ+gP5AGaZAGaaA/aCAqHdkzoD8AAAAAAACgP1ikDDzdmp8/OB+D8zE4nz+U8EZT59eeP57neZ7neZ4/Hh4eHh4enj9xR9wRd8SdP/rN1qHfbJ0/F1100UUXnT/MYQ5zmMOcPxzHcRzHcZw/HMIhHMIhnD+96U1vetObP4cbbrjhhps/bdR3Nuo7mz8or6G8hvKaP6uqqqqqqpo/Grab5Ulkmj+IxvrQWB+aPzFvZ0jM25k/",
                    "dtype": "f8"
                  },
                  "yaxis": "y"
                }
              ],
              "layout": {
                "height": 500,
                "template": {
                  "data": {
                    "bar": [
                      {
                        "error_x": {
                          "color": "#2a3f5f"
                        },
                        "error_y": {
                          "color": "#2a3f5f"
                        },
                        "marker": {
                          "line": {
                            "color": "#E5ECF6",
                            "width": 0.5
                          },
                          "pattern": {
                            "fillmode": "overlay",
                            "size": 10,
                            "solidity": 0.2
                          }
                        },
                        "type": "bar"
                      }
                    ],
                    "barpolar": [
                      {
                        "marker": {
                          "line": {
                            "color": "#E5ECF6",
                            "width": 0.5
                          },
                          "pattern": {
                            "fillmode": "overlay",
                            "size": 10,
                            "solidity": 0.2
                          }
                        },
                        "type": "barpolar"
                      }
                    ],
                    "carpet": [
                      {
                        "aaxis": {
                          "endlinecolor": "#2a3f5f",
                          "gridcolor": "white",
                          "linecolor": "white",
                          "minorgridcolor": "white",
                          "startlinecolor": "#2a3f5f"
                        },
                        "baxis": {
                          "endlinecolor": "#2a3f5f",
                          "gridcolor": "white",
                          "linecolor": "white",
                          "minorgridcolor": "white",
                          "startlinecolor": "#2a3f5f"
                        },
                        "type": "carpet"
                      }
                    ],
                    "choropleth": [
                      {
                        "colorbar": {
                          "outlinewidth": 0,
                          "ticks": ""
                        },
                        "type": "choropleth"
                      }
                    ],
                    "contour": [
                      {
                        "colorbar": {
                          "outlinewidth": 0,
                          "ticks": ""
                        },
                        "colorscale": [
                          [
                            0,
                            "#0d0887"
                          ],
                          [
                            0.1111111111111111,
                            "#46039f"
                          ],
                          [
                            0.2222222222222222,
                            "#7201a8"
                          ],
                          [
                            0.3333333333333333,
                            "#9c179e"
                          ],
                          [
                            0.4444444444444444,
                            "#bd3786"
                          ],
                          [
                            0.5555555555555556,
                            "#d8576b"
                          ],
                          [
                            0.6666666666666666,
                            "#ed7953"
                          ],
                          [
                            0.7777777777777778,
                            "#fb9f3a"
                          ],
                          [
                            0.8888888888888888,
                            "#fdca26"
                          ],
                          [
                            1,
                            "#f0f921"
                          ]
                        ],
                        "type": "contour"
                      }
                    ],
                    "contourcarpet": [
                      {
                        "colorbar": {
                          "outlinewidth": 0,
                          "ticks": ""
                        },
                        "type": "contourcarpet"
                      }
                    ],
                    "heatmap": [
                      {
                        "colorbar": {
                          "outlinewidth": 0,
                          "ticks": ""
                        },
                        "colorscale": [
                          [
                            0,
                            "#0d0887"
                          ],
                          [
                            0.1111111111111111,
                            "#46039f"
                          ],
                          [
                            0.2222222222222222,
                            "#7201a8"
                          ],
                          [
                            0.3333333333333333,
                            "#9c179e"
                          ],
                          [
                            0.4444444444444444,
                            "#bd3786"
                          ],
                          [
                            0.5555555555555556,
                            "#d8576b"
                          ],
                          [
                            0.6666666666666666,
                            "#ed7953"
                          ],
                          [
                            0.7777777777777778,
                            "#fb9f3a"
                          ],
                          [
                            0.8888888888888888,
                            "#fdca26"
                          ],
                          [
                            1,
                            "#f0f921"
                          ]
                        ],
                        "type": "heatmap"
                      }
                    ],
                    "histogram": [
                      {
                        "marker": {
                          "pattern": {
                            "fillmode": "overlay",
                            "size": 10,
                            "solidity": 0.2
                          }
                        },
                        "type": "histogram"
                      }
                    ],
                    "histogram2d": [
                      {
                        "colorbar": {
                          "outlinewidth": 0,
                          "ticks": ""
                        },
                        "colorscale": [
                          [
                            0,
                            "#0d0887"
                          ],
                          [
                            0.1111111111111111,
                            "#46039f"
                          ],
                          [
                            0.2222222222222222,
                            "#7201a8"
                          ],
                          [
                            0.3333333333333333,
                            "#9c179e"
                          ],
                          [
                            0.4444444444444444,
                            "#bd3786"
                          ],
                          [
                            0.5555555555555556,
                            "#d8576b"
                          ],
                          [
                            0.6666666666666666,
                            "#ed7953"
                          ],
                          [
                            0.7777777777777778,
                            "#fb9f3a"
                          ],
                          [
                            0.8888888888888888,
                            "#fdca26"
                          ],
                          [
                            1,
                            "#f0f921"
                          ]
                        ],
                        "type": "histogram2d"
                      }
                    ],
                    "histogram2dcontour": [
                      {
                        "colorbar": {
                          "outlinewidth": 0,
                          "ticks": ""
                        },
                        "colorscale": [
                          [
                            0,
                            "#0d0887"
                          ],
                          [
                            0.1111111111111111,
                            "#46039f"
                          ],
                          [
                            0.2222222222222222,
                            "#7201a8"
                          ],
                          [
                            0.3333333333333333,
                            "#9c179e"
                          ],
                          [
                            0.4444444444444444,
                            "#bd3786"
                          ],
                          [
                            0.5555555555555556,
                            "#d8576b"
                          ],
                          [
                            0.6666666666666666,
                            "#ed7953"
                          ],
                          [
                            0.7777777777777778,
                            "#fb9f3a"
                          ],
                          [
                            0.8888888888888888,
                            "#fdca26"
                          ],
                          [
                            1,
                            "#f0f921"
                          ]
                        ],
                        "type": "histogram2dcontour"
                      }
                    ],
                    "mesh3d": [
                      {
                        "colorbar": {
                          "outlinewidth": 0,
                          "ticks": ""
                        },
                        "type": "mesh3d"
                      }
                    ],
                    "parcoords": [
                      {
                        "line": {
                          "colorbar": {
                            "outlinewidth": 0,
                            "ticks": ""
                          }
                        },
                        "type": "parcoords"
                      }
                    ],
                    "pie": [
                      {
                        "automargin": true,
                        "type": "pie"
                      }
                    ],
                    "scatter": [
                      {
                        "fillpattern": {
                          "fillmode": "overlay",
                          "size": 10,
                          "solidity": 0.2
                        },
                        "type": "scatter"
                      }
                    ],
                    "scatter3d": [
                      {
                        "line": {
                          "colorbar": {
                            "outlinewidth": 0,
                            "ticks": ""
                          }
                        },
                        "marker": {
                          "colorbar": {
                            "outlinewidth": 0,
                            "ticks": ""
                          }
                        },
                        "type": "scatter3d"
                      }
                    ],
                    "scattercarpet": [
                      {
                        "marker": {
                          "colorbar": {
                            "outlinewidth": 0,
                            "ticks": ""
                          }
                        },
                        "type": "scattercarpet"
                      }
                    ],
                    "scattergeo": [
                      {
                        "marker": {
                          "colorbar": {
                            "outlinewidth": 0,
                            "ticks": ""
                          }
                        },
                        "type": "scattergeo"
                      }
                    ],
                    "scattergl": [
                      {
                        "marker": {
                          "colorbar": {
                            "outlinewidth": 0,
                            "ticks": ""
                          }
                        },
                        "type": "scattergl"
                      }
                    ],
                    "scattermap": [
                      {
                        "marker": {
                          "colorbar": {
                            "outlinewidth": 0,
                            "ticks": ""
                          }
                        },
                        "type": "scattermap"
                      }
                    ],
                    "scattermapbox": [
                      {
                        "marker": {
                          "colorbar": {
                            "outlinewidth": 0,
                            "ticks": ""
                          }
                        },
                        "type": "scattermapbox"
                      }
                    ],
                    "scatterpolar": [
                      {
                        "marker": {
                          "colorbar": {
                            "outlinewidth": 0,
                            "ticks": ""
                          }
                        },
                        "type": "scatterpolar"
                      }
                    ],
                    "scatterpolargl": [
                      {
                        "marker": {
                          "colorbar": {
                            "outlinewidth": 0,
                            "ticks": ""
                          }
                        },
                        "type": "scatterpolargl"
                      }
                    ],
                    "scatterternary": [
                      {
                        "marker": {
                          "colorbar": {
                            "outlinewidth": 0,
                            "ticks": ""
                          }
                        },
                        "type": "scatterternary"
                      }
                    ],
                    "surface": [
                      {
                        "colorbar": {
                          "outlinewidth": 0,
                          "ticks": ""
                        },
                        "colorscale": [
                          [
                            0,
                            "#0d0887"
                          ],
                          [
                            0.1111111111111111,
                            "#46039f"
                          ],
                          [
                            0.2222222222222222,
                            "#7201a8"
                          ],
                          [
                            0.3333333333333333,
                            "#9c179e"
                          ],
                          [
                            0.4444444444444444,
                            "#bd3786"
                          ],
                          [
                            0.5555555555555556,
                            "#d8576b"
                          ],
                          [
                            0.6666666666666666,
                            "#ed7953"
                          ],
                          [
                            0.7777777777777778,
                            "#fb9f3a"
                          ],
                          [
                            0.8888888888888888,
                            "#fdca26"
                          ],
                          [
                            1,
                            "#f0f921"
                          ]
                        ],
                        "type": "surface"
                      }
                    ],
                    "table": [
                      {
                        "cells": {
                          "fill": {
                            "color": "#EBF0F8"
                          },
                          "line": {
                            "color": "white"
                          }
                        },
                        "header": {
                          "fill": {
                            "color": "#C8D4E3"
                          },
                          "line": {
                            "color": "white"
                          }
                        },
                        "type": "table"
                      }
                    ]
                  },
                  "layout": {
                    "annotationdefaults": {
                      "arrowcolor": "#2a3f5f",
                      "arrowhead": 0,
                      "arrowwidth": 1
                    },
                    "autotypenumbers": "strict",
                    "coloraxis": {
                      "colorbar": {
                        "outlinewidth": 0,
                        "ticks": ""
                      }
                    },
                    "colorscale": {
                      "diverging": [
                        [
                          0,
                          "#8e0152"
                        ],
                        [
                          0.1,
                          "#c51b7d"
                        ],
                        [
                          0.2,
                          "#de77ae"
                        ],
                        [
                          0.3,
                          "#f1b6da"
                        ],
                        [
                          0.4,
                          "#fde0ef"
                        ],
                        [
                          0.5,
                          "#f7f7f7"
                        ],
                        [
                          0.6,
                          "#e6f5d0"
                        ],
                        [
                          0.7,
                          "#b8e186"
                        ],
                        [
                          0.8,
                          "#7fbc41"
                        ],
                        [
                          0.9,
                          "#4d9221"
                        ],
                        [
                          1,
                          "#276419"
                        ]
                      ],
                      "sequential": [
                        [
                          0,
                          "#0d0887"
                        ],
                        [
                          0.1111111111111111,
                          "#46039f"
                        ],
                        [
                          0.2222222222222222,
                          "#7201a8"
                        ],
                        [
                          0.3333333333333333,
                          "#9c179e"
                        ],
                        [
                          0.4444444444444444,
                          "#bd3786"
                        ],
                        [
                          0.5555555555555556,
                          "#d8576b"
                        ],
                        [
                          0.6666666666666666,
                          "#ed7953"
                        ],
                        [
                          0.7777777777777778,
                          "#fb9f3a"
                        ],
                        [
                          0.8888888888888888,
                          "#fdca26"
                        ],
                        [
                          1,
                          "#f0f921"
                        ]
                      ],
                      "sequentialminus": [
                        [
                          0,
                          "#0d0887"
                        ],
                        [
                          0.1111111111111111,
                          "#46039f"
                        ],
                        [
                          0.2222222222222222,
                          "#7201a8"
                        ],
                        [
                          0.3333333333333333,
                          "#9c179e"
                        ],
                        [
                          0.4444444444444444,
                          "#bd3786"
                        ],
                        [
                          0.5555555555555556,
                          "#d8576b"
                        ],
                        [
                          0.6666666666666666,
                          "#ed7953"
                        ],
                        [
                          0.7777777777777778,
                          "#fb9f3a"
                        ],
                        [
                          0.8888888888888888,
                          "#fdca26"
                        ],
                        [
                          1,
                          "#f0f921"
                        ]
                      ]
                    },
                    "colorway": [
                      "#636efa",
                      "#EF553B",
                      "#00cc96",
                      "#ab63fa",
                      "#FFA15A",
                      "#19d3f3",
                      "#FF6692",
                      "#B6E880",
                      "#FF97FF",
                      "#FECB52"
                    ],
                    "font": {
                      "color": "#2a3f5f"
                    },
                    "geo": {
                      "bgcolor": "white",
                      "lakecolor": "white",
                      "landcolor": "#E5ECF6",
                      "showlakes": true,
                      "showland": true,
                      "subunitcolor": "white"
                    },
                    "hoverlabel": {
                      "align": "left"
                    },
                    "hovermode": "closest",
                    "mapbox": {
                      "style": "light"
                    },
                    "paper_bgcolor": "white",
                    "plot_bgcolor": "#E5ECF6",
                    "polar": {
                      "angularaxis": {
                        "gridcolor": "white",
                        "linecolor": "white",
                        "ticks": ""
                      },
                      "bgcolor": "#E5ECF6",
                      "radialaxis": {
                        "gridcolor": "white",
                        "linecolor": "white",
                        "ticks": ""
                      }
                    },
                    "scene": {
                      "xaxis": {
                        "backgroundcolor": "#E5ECF6",
                        "gridcolor": "white",
                        "gridwidth": 2,
                        "linecolor": "white",
                        "showbackground": true,
                        "ticks": "",
                        "zerolinecolor": "white"
                      },
                      "yaxis": {
                        "backgroundcolor": "#E5ECF6",
                        "gridcolor": "white",
                        "gridwidth": 2,
                        "linecolor": "white",
                        "showbackground": true,
                        "ticks": "",
                        "zerolinecolor": "white"
                      },
                      "zaxis": {
                        "backgroundcolor": "#E5ECF6",
                        "gridcolor": "white",
                        "gridwidth": 2,
                        "linecolor": "white",
                        "showbackground": true,
                        "ticks": "",
                        "zerolinecolor": "white"
                      }
                    },
                    "shapedefaults": {
                      "line": {
                        "color": "#2a3f5f"
                      }
                    },
                    "ternary": {
                      "aaxis": {
                        "gridcolor": "white",
                        "linecolor": "white",
                        "ticks": ""
                      },
                      "baxis": {
                        "gridcolor": "white",
                        "linecolor": "white",
                        "ticks": ""
                      },
                      "bgcolor": "#E5ECF6",
                      "caxis": {
                        "gridcolor": "white",
                        "linecolor": "white",
                        "ticks": ""
                      }
                    },
                    "title": {
                      "x": 0.05
                    },
                    "xaxis": {
                      "automargin": true,
                      "gridcolor": "white",
                      "linecolor": "white",
                      "ticks": "",
                      "title": {
                        "standoff": 15
                      },
                      "zerolinecolor": "white",
                      "zerolinewidth": 2
                    },
                    "yaxis": {
                      "automargin": true,
                      "gridcolor": "white",
                      "linecolor": "white",
                      "ticks": "",
                      "title": {
                        "standoff": 15
                      },
                      "zerolinecolor": "white",
                      "zerolinewidth": 2
                    }
                  }
                },
                "title": {
                  "text": "análise dos valores de m"
                },
                "width": 800,
                "xaxis": {
                  "anchor": "y",
                  "domain": [
                    0,
                    1
                  ],
                  "title": {
                    "text": "quatidade de dados"
                  }
                },
                "yaxis": {
                  "anchor": "x",
                  "domain": [
                    0,
                    1
                  ],
                  "title": {
                    "text": "valor de m2.0"
                  }
                }
              }
            }
          },
          "metadata": {},
          "output_type": "display_data"
        }
      ],
      "source": [
        "x = np.arange(1,100)\n",
        "def limiar(m,x):\n",
        "    return (1+m**2)/(2*x)\n",
        "ms = np.array([1.25,1.5,2])\n",
        "labels = [f'm:{ms[i-1]}' for i in range(1,1+len(ms))]\n",
        "'''plt.figure(figsize=(10,5))\n",
        "for m,label in zip(ms,labels):\n",
        "    plt.plot(x,limiar(m,x),label=label)\n",
        "xticks = list(np.arange(0,31))\n",
        "yticks = list(np.arange(0,1.75,0.125))\n",
        "plt.xticks(xticks)\n",
        "plt.yticks(yticks)\n",
        "plt.xlabel('quantidade de dados')\n",
        "plt.ylabel('valores de m')\n",
        "plt.grid(True)\n",
        "plt.legend()'''\n",
        "\n",
        "fig = make_subplots(rows=1, cols=1)\n",
        "for m,label in zip(ms[:],labels[:]):\n",
        "    fig.add_trace(go.Scatter(x=x,y=limiar(m,x),name=label),row=1,col=1)\n",
        "fig.update_layout(width=800, height=500, title=f'análise dos valores de m')\n",
        "fig.update_yaxes(title_text = f'valor de m{m}')\n",
        "fig.update_xaxes(title_text = 'quatidade de dados')\n",
        "fig.show()"
      ]
    },
    {
      "cell_type": "code",
      "execution_count": 90,
      "metadata": {},
      "outputs": [
        {
          "name": "stdout",
          "output_type": "stream",
          "text": [
            "na iteracao 21 houve fusao de clouds\n",
            "na iteracao 31 houve fusao de clouds\n",
            "na iteracao 35 houve fusao de clouds\n",
            "na iteracao 50 houve fusao de clouds\n",
            "na iteracao 58 houve fusao de clouds\n",
            "na iteracao 58 houve fusao de clouds\n",
            "na iteracao 80 houve fusao de clouds\n",
            "na iteracao 113 houve fusao de clouds\n",
            "na iteracao 117 houve fusao de clouds\n",
            "na iteracao 125 houve fusao de clouds\n",
            "na iteracao 153 houve fusao de clouds\n",
            "na iteracao 153 houve fusao de clouds\n",
            "na iteracao 161 houve fusao de clouds\n",
            "na iteracao 204 houve fusao de clouds\n",
            "na iteracao 228 houve fusao de clouds\n",
            "na iteracao 244 houve fusao de clouds\n",
            "na iteracao 255 houve fusao de clouds\n",
            "na iteracao 319 houve fusao de clouds\n",
            "na iteracao 337 houve fusao de clouds\n",
            "na iteracao 352 houve fusao de clouds\n",
            "na iteracao 352 houve fusao de clouds\n",
            "na iteracao 420 houve fusao de clouds\n",
            "na iteracao 440 houve fusao de clouds\n",
            "na iteracao 473 houve fusao de clouds\n",
            "na iteracao 477 houve fusao de clouds\n",
            "na iteracao 513 houve fusao de clouds\n",
            "na iteracao 594 houve fusao de clouds\n",
            "na iteracao 806 houve fusao de clouds\n",
            "na iteracao 841 houve fusao de clouds\n",
            "na iteracao 920 houve fusao de clouds\n",
            "na iteracao 930 houve fusao de clouds\n",
            "na iteracao 1055 houve fusao de clouds\n",
            "na iteracao 1105 houve fusao de clouds\n",
            "na iteracao 1181 houve fusao de clouds\n",
            "na iteracao 1187 houve fusao de clouds\n",
            "na iteracao 1273 houve fusao de clouds\n",
            "na iteracao 1345 houve fusao de clouds\n",
            "na iteracao 1389 houve fusao de clouds\n",
            "na iteracao 1420 houve fusao de clouds\n",
            "na iteracao 1498 houve fusao de clouds\n",
            "na iteracao 1588 houve fusao de clouds\n",
            "na iteracao 1616 houve fusao de clouds\n",
            "na iteracao 1618 houve fusao de clouds\n",
            "na iteracao 1663 houve fusao de clouds\n",
            "na iteracao 1732 houve fusao de clouds\n",
            "na iteracao 1734 houve fusao de clouds\n",
            "na iteracao 1749 houve fusao de clouds\n",
            "na iteracao 1753 houve fusao de clouds\n",
            "na iteracao 1844 houve fusao de clouds\n",
            "na iteracao 1845 houve fusao de clouds\n",
            "na iteracao 1928 houve fusao de clouds\n",
            "na iteracao 1932 houve fusao de clouds\n",
            "na iteracao 2059 houve fusao de clouds\n",
            "na iteracao 2171 houve fusao de clouds\n",
            "na iteracao 2288 houve fusao de clouds\n",
            "na iteracao 2320 houve fusao de clouds\n",
            "na iteracao 2342 houve fusao de clouds\n",
            "na iteracao 2397 houve fusao de clouds\n",
            "na iteracao 2736 houve fusao de clouds\n",
            "na iteracao 2750 houve fusao de clouds\n",
            "na iteracao 2855 houve fusao de clouds\n",
            "na iteracao 2858 houve fusao de clouds\n",
            "na iteracao 2973 houve fusao de clouds\n",
            "na iteracao 2974 houve fusao de clouds\n",
            "na iteracao 3127 houve fusao de clouds\n",
            "na iteracao 3320 houve fusao de clouds\n",
            "na iteracao 3439 houve fusao de clouds\n",
            "na iteracao 3442 houve fusao de clouds\n",
            "na iteracao 3964 houve fusao de clouds\n",
            "na iteracao 4068 houve fusao de clouds\n",
            "na iteracao 4071 houve fusao de clouds\n",
            "na iteracao 4176 houve fusao de clouds\n",
            "na iteracao 4179 houve fusao de clouds\n",
            "na iteracao 4251 houve fusao de clouds\n",
            "na iteracao 4299 houve fusao de clouds\n",
            "na iteracao 4300 houve fusao de clouds\n",
            "na iteracao 4468 houve fusao de clouds\n",
            "na iteracao 4705 houve fusao de clouds\n",
            "na iteracao 4903 houve fusao de clouds\n",
            "na iteracao 4907 houve fusao de clouds\n",
            "na iteracao 5029 houve fusao de clouds\n",
            "na iteracao 5241 houve fusao de clouds\n",
            "na iteracao 5264 houve fusao de clouds\n",
            "na iteracao 5353 houve fusao de clouds\n",
            "na iteracao 5557 houve fusao de clouds\n",
            "na iteracao 5686 houve fusao de clouds\n",
            "na iteracao 5870 houve fusao de clouds\n",
            "na iteracao 5969 houve fusao de clouds\n",
            "na iteracao 6197 houve fusao de clouds\n",
            "na iteracao 6310 houve fusao de clouds\n",
            "na iteracao 6544 houve fusao de clouds\n",
            "na iteracao 6558 houve fusao de clouds\n",
            "na iteracao 6776 houve fusao de clouds\n",
            "na iteracao 7043 houve fusao de clouds\n",
            "na iteracao 7418 houve fusao de clouds\n",
            "na iteracao 7516 houve fusao de clouds\n",
            "na iteracao 7537 houve fusao de clouds\n",
            "na iteracao 7555 houve fusao de clouds\n",
            "na iteracao 7631 houve fusao de clouds\n",
            "na iteracao 7668 houve fusao de clouds\n",
            "na iteracao 7682 houve fusao de clouds\n",
            "na iteracao 7689 houve fusao de clouds\n",
            "na iteracao 7697 houve fusao de clouds\n",
            "na iteracao 7722 houve fusao de clouds\n",
            "na iteracao 7736 houve fusao de clouds\n",
            "na iteracao 7741 houve fusao de clouds\n",
            "na iteracao 7744 houve fusao de clouds\n",
            "na iteracao 7749 houve fusao de clouds\n",
            "na iteracao 7766 houve fusao de clouds\n",
            "na iteracao 7790 houve fusao de clouds\n",
            "na iteracao 7873 houve fusao de clouds\n",
            "na iteracao 7879 houve fusao de clouds\n",
            "na iteracao 7884 houve fusao de clouds\n",
            "na iteracao 7894 houve fusao de clouds\n",
            "na iteracao 7899 houve fusao de clouds\n",
            "--------------------------------\n",
            "cloud numero 1\n",
            "n: 5686.0 mean: [26.55264563  3.68607844  0.1242863 ] variance: 21015.632845814238\n",
            "+++++++++++++++++++++++++++++++\n",
            "cloud numero 2\n",
            "n: 284.0 mean: [4.9000000e+01 4.7000000e+01 1.0936082e-02] variance: 1.1890936053143291e-07\n",
            "+++++++++++++++++++++++++++++++\n",
            "cloud numero 3\n",
            "n: 2617.0 mean: [4.77575302e+01 4.50542398e+01 1.13900585e-02] variance: 30.68542171843083\n",
            "+++++++++++++++++++++++++++++++\n",
            "cloud numero 4\n",
            "n: 65 mean: [9.64923077e+01 4.58769231e+01 6.38840414e-03] variance: 26.93916131703785\n",
            "+++++++++++++++++++++++++++++++\n",
            "cloud numero 5\n",
            "n: 32 mean: [4.23437500e+02 2.30000000e+01 9.83894688e-05] variance: 47.98181747498923\n",
            "+++++++++++++++++++++++++++++++\n"
          ]
        }
      ],
      "source": [
        "teste=AutoCloud(1.5) # valor do parametro m\n",
        "j= 8100 #Define a quantidade de amostras serão usadas\n",
        "for dado in dados[:j]:\n",
        "    teste.run(np.array(dado))\n",
        "print('--------------------------------')\n",
        "for k,cloud in enumerate(teste.c,start=0):\n",
        "    print(f'cloud numero {k+1}')\n",
        "    print('n:',cloud.n,'mean:',cloud.mean,'variance:',cloud.variance)\n",
        "    print('+++++++++++++++++++++++++++++++')\n"
      ]
    },
    {
      "cell_type": "code",
      "execution_count": 89,
      "metadata": {},
      "outputs": [
        {
          "data": {
            "image/png": "[encoded data removed]",
            "text/plain": [
              "<Figure size 500x500 with 1 Axes>"
            ]
          },
          "metadata": {},
          "output_type": "display_data"
        }
      ],
      "source": [
        "# Criar figura e eixos 3D para ver centroides e clouds\n",
        "fig = plt.figure(figsize=(5, 5))\n",
        "ax = fig.add_subplot(111, projection='3d')\n",
        "j=25 #Define a quantidade de amostras serão usadas\n",
        "# Plotar os pontos\n",
        "\n",
        "for cloud in teste.c:\n",
        "    m = cloud.mean\n",
        "    ax.scatter(m[0], m[1], m[2],  marker='o', s=40, label='centroide')\n",
        "ax.scatter(f1[0:j], f2[0:j], f3[0:j], c='red', marker='+', s=20, label='Pontos')\n",
        "\n",
        "# Rótulos dos eixos\n",
        "ax.set_xlabel('Eixo f1')\n",
        "ax.set_ylabel('Eixo f2')\n",
        "ax.set_zlabel('Eixo f3')\n",
        "\n",
        "# Título e legenda\n",
        "ax.set_title('Gráfico de Pontos 3D')\n",
        "#ax.legend('upper right')\n",
        "plt.show()"
      ]
    },
    {
      "cell_type": "code",
      "execution_count": null,
      "metadata": {},
      "outputs": [
        {
          "name": "stdout",
          "output_type": "stream",
          "text": [
            "      f1    f2        f3\n",
            "0    0.0   0.0  0.000000\n",
            "1    0.0   0.0  0.000000\n",
            "2    0.0   0.0  0.000000\n",
            "3    0.0   0.0  0.000000\n",
            "4    0.0   0.0  0.000000\n",
            "5    0.0   0.0  0.000000\n",
            "6    0.0   0.0  0.000000\n",
            "7    0.0   0.0  0.000000\n",
            "8    0.0   0.0  0.000000\n",
            "9    0.0   0.0  0.000000\n",
            "10   0.0   0.0  0.000000\n",
            "11  35.0  33.0  0.000000\n",
            "12  29.0  27.0  0.187042\n",
            "13  15.0   0.0  0.182742\n",
            "14  35.0  33.0  0.815201\n",
            "15   0.0   0.0  0.000000\n",
            "16  35.0  33.0  1.001953\n",
            "17  18.0   0.0  0.974305\n",
            "18   0.0   0.0  0.000000\n",
            "19   0.0   0.0  1.005595\n",
            "20  35.0  33.0  1.002271\n",
            "21  18.0   0.0  0.851052\n",
            "22   0.0   0.0  0.000000\n",
            "23   0.0   0.0  1.009201\n",
            "24   0.0   0.0  0.000000\n"
          ]
        },
        {
          "data": {
            "text/plain": [
              "<matplotlib.collections.PathCollection at 0x70ad6069f950>"
            ]
          },
          "execution_count": 14,
          "metadata": {},
          "output_type": "execute_result"
        },
        {
          "data": {
            "image/png": "[encoded data removed]",
            "text/plain": [
              "<Figure size 640x480 with 1 Axes>"
            ]
          },
          "metadata": {},
          "output_type": "display_data"
        }
      ],
      "source": [
        "j=25 #Define a quantidade de amostras serão usadas\n",
        "f = np.array([f1[:j],f2[:j],f3[:j]]).T\n",
        "df_teste = pd.DataFrame(f)\n",
        "df_teste.columns = ['f1','f2','f3',]\n",
        "print(df_teste)\n",
        "plt.scatter(f1[:j],f2[:j])"
      ]
    },
    {
      "cell_type": "code",
      "execution_count": 15,
      "metadata": {},
      "outputs": [
        {
          "data": {
            "text/plain": [
              "[<matplotlib.lines.Line2D at 0x70ad6070ba40>]"
            ]
          },
          "execution_count": 15,
          "metadata": {},
          "output_type": "execute_result"
        },
        {
          "data": {
            "image/png": "[encoded data removed]",
            "text/plain": [
              "<Figure size 640x480 with 1 Axes>"
            ]
          },
          "metadata": {},
          "output_type": "display_data"
        }
      ],
      "source": [
        "plt.plot(dados.T[0],dados.T[2],'.g')"
      ]
    },
    {
      "cell_type": "code",
      "execution_count": 16,
      "metadata": {},
      "outputs": [
        {
          "data": {
            "text/plain": [
              "[<matplotlib.lines.Line2D at 0x70ad5edc5dc0>]"
            ]
          },
          "execution_count": 16,
          "metadata": {},
          "output_type": "execute_result"
        },
        {
          "data": {
            "image/png": "[encoded data removed]",
            "text/plain": [
              "<Figure size 640x480 with 1 Axes>"
            ]
          },
          "metadata": {},
          "output_type": "display_data"
        }
      ],
      "source": [
        "plt.plot(df['TCP Len'],df['MQTT Len'],'.g')"
      ]
    },
    {
      "cell_type": "markdown",
      "metadata": {},
      "source": [
        "#Processa todas as amostras para o conjunto completo de dados"
      ]
    },
    {
      "cell_type": "code",
      "execution_count": 17,
      "metadata": {},
      "outputs": [],
      "source": [
        "dados= dados.T\n",
        "teste=AutoCloud(2)\n",
        "for t in dados:\n",
        "    teste.run(np.array(t))"
      ]
    },
    {
      "cell_type": "code",
      "execution_count": 26,
      "metadata": {},
      "outputs": [
        {
          "data": {
            "text/plain": [
              "array([[0.00000e+00, 0.00000e+00, 0.00000e+00, ..., 0.00000e+00,\n",
              "        2.89600e+03, 2.89600e+03],\n",
              "       [0.00000e+00, 0.00000e+00, 0.00000e+00, ..., 0.00000e+00,\n",
              "        0.00000e+00, 0.00000e+00],\n",
              "       [0.00000e+00, 0.00000e+00, 0.00000e+00, ..., 1.23760e-05,\n",
              "        3.77438e-03, 1.50000e-08]], shape=(3, 22029))"
            ]
          },
          "execution_count": 26,
          "metadata": {},
          "output_type": "execute_result"
        }
      ],
      "source": [
        "dados"
      ]
    }
  ],
  "metadata": {
    "colab": {
      "provenance": [],
      "toc_visible": true
    },
    "kernelspec": {
      "display_name": "venv",
      "language": "python",
      "name": "python3"
    },
    "language_info": {
      "codemirror_mode": {
        "name": "ipython",
        "version": 3
      },
      "file_extension": ".py",
      "mimetype": "text/x-python",
      "name": "python",
      "nbconvert_exporter": "python",
      "pygments_lexer": "ipython3",
      "version": "3.12.3"
    }
  },
  "nbformat": 4,
  "nbformat_minor": 0
}
