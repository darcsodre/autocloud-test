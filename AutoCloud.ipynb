{
  "cells": [
    {
      "cell_type": "code",
      "execution_count": null,
      "metadata": {
        "id": "2BBCVTvDfH1c"
      },
      "outputs": [
        {
          "ename": "",
          "evalue": "",
          "output_type": "error",
          "traceback": [
            "\u001b[1;31mFailed to start the Kernel 'venv (Python 3.12.3)'. \n",
            "\u001b[1;31mView Jupyter <a href='command:jupyter.viewOutput'>log</a> for further details. Cannot find module '@jupyterlab/services'\n",
            "\u001b[1;31mRequire stack:\n",
            "\u001b[1;31m- /home/darc/.vscode/extensions/ms-toolsai.jupyter-2025.1.0-linux-x64/dist/extension.node.js\n",
            "\u001b[1;31m- /home/darc/.vscode/extensions/ms-toolsai.jupyter-2025.1.0-linux-x64/dist/extension.node.proxy.js\n",
            "\u001b[1;31m- /snap/code/184/usr/share/code/resources/app/out/vs/workbench/api/node/extensionHostProcess.js"
          ]
        }
      ],
      "source": [
        "import pandas as pd\n",
        "import numpy as np\n",
        "import matplotlib.pyplot as plt\n",
        "import seaborn as sns\n",
        "from matplotlib.lines import Line2D"
      ]
    },
    {
      "cell_type": "code",
      "execution_count": null,
      "metadata": {
        "id": "-VyEywC73IO5"
      },
      "outputs": [],
      "source": [
        "listaCor =np.array(['#4C72B0','#DD8452','#55A868','#C44E52','#8172B3','#937860','#DA8BC3','#8C8C8C','#CCB974','#64B5CD'])"
      ]
    },
    {
      "cell_type": "code",
      "execution_count": null,
      "metadata": {
        "id": "YZJVjEFmfH1h"
      },
      "outputs": [],
      "source": [
        "class DataCloud:\n",
        "\tN=0\n",
        "\tdef __init__(self,x):\n",
        "\t\tself.n=1\n",
        "\t\tself.mean=x\n",
        "\t\tself.variance=0\n",
        "\t\tself.pertinency=1\n",
        "\t\tDataCloud.N+=1\n",
        "\tdef addDataClaud(self,x):\n",
        "\t\tself.n=2\n",
        "\t\tself.mean=(self.mean+x)/2\n",
        "\t\tself.variance=((np.linalg.norm(self.mean-x))**2)\n",
        "\tdef updateDataCloud(self,n,mean,variance):\n",
        "\t\tself.n=n\n",
        "\t\tself.mean=mean\n",
        "\t\tself.variance=variance"
      ]
    },
    {
      "cell_type": "code",
      "execution_count": null,
      "metadata": {
        "id": "SqqyO6VBfH1m"
      },
      "outputs": [],
      "source": [
        "class AutoCloud:\n",
        "\tc= np.array([DataCloud(0)],dtype=DataCloud)\n",
        "\talfa= np.array([0.0],dtype=float)\n",
        "\tintersection = np.zeros((1,1),dtype=int)\n",
        "\tlistIntersection = np.zeros((1),dtype=int)\n",
        "\tmatrixIntersection = np.zeros((1,1),dtype=int)\n",
        "\trelevanceList = np.zeros((1),dtype=int)\n",
        "\tk=1\n",
        "\tdef __init__(self, m):\n",
        "\t\tAutoCloud.m = m\n",
        "\t\tAutoCloud.c= np.array([DataCloud(0)],dtype=DataCloud)\n",
        "\t\tAutoCloud.alfa= np.array([0.0],dtype=float)\n",
        "\t\tAutoCloud.intersection = np.zeros((1,1),dtype=int)\n",
        "\t\tAutoCloud.listIntersection = np.zeros((1),dtype=int)\n",
        "\t\tAutoCloud.relevanceList = np.zeros((1),dtype=int)\n",
        "\t\tAutoCloud.matrixIntersection = np.zeros((1,1),dtype=int)\n",
        "\t\tAutoCloud.classIndex = []\n",
        "\t\tAutoCloud.k = 1\n",
        "\n",
        "\tdef mergeClouds(self):\n",
        "\t\ti=0\n",
        "\t\twhile(i<len(AutoCloud.listIntersection)-1):\n",
        "\t\t\tmerge=False\n",
        "\t\t\tj=i+1\n",
        "\t\t\twhile(j<len(AutoCloud.listIntersection)):\n",
        "\t\t\t\t#print(\"i\",i,\"j\",j,\"l\",np.size(AutoCloud.listIntersection),\"m\",np.size(AutoCloud.matrixIntersection),\"c\",np.size(AutoCloud.c))\n",
        "\t\t\t\tif(AutoCloud.listIntersection[i] == 1 and AutoCloud.listIntersection[j] == 1):\n",
        "\t\t\t\t\tAutoCloud.matrixIntersection[i,j] = AutoCloud.matrixIntersection[i,j] + 1;\n",
        "\t\t\t\tnI = AutoCloud.c[i].n\n",
        "\t\t\t\tnJ = AutoCloud.c[j].n\n",
        "\t\t\t\tmeanI = AutoCloud.c[i].mean\n",
        "\t\t\t\tmeanJ = AutoCloud.c[j].mean\n",
        "\t\t\t\tvarianceI = AutoCloud.c[i].variance\n",
        "\t\t\t\tvarianceJ = AutoCloud.c[j].variance\n",
        "\t\t\t\tnIntersc = AutoCloud.matrixIntersection[i,j]\n",
        "\t\t\t\tif (nIntersc > (nI - nIntersc) or nIntersc > (nJ - nIntersc)):\n",
        "\t\t\t\t\tmerge = True\n",
        "\t\t\t\t\t#update values\n",
        "\t\t\t\t\tn = nI + nJ - nIntersc\n",
        "\t\t\t\t\tmean = ((nI * meanI) + (nJ * meanJ))/(nI + nJ)\n",
        "\t\t\t\t\tvariance = ((nI - 1) * varianceI + (nJ - 1) * varianceJ)/(nI + nJ - 2)\n",
        "\t\t\t\t\tnewCloud = DataCloud(mean)\n",
        "\t\t\t\t\tnewCloud.updateDataCloud(n,mean,variance)\n",
        "\t\t\t\t\t#atualizando lista de interseção\n",
        "\t\t\t\t\tAutoCloud.listIntersection = np.concatenate((AutoCloud.listIntersection[0 : i], np.array([1]), AutoCloud.listIntersection[i + 1 : j],AutoCloud.listIntersection[j + 1 : np.size(AutoCloud.listIntersection)]),axis=None)\n",
        "\t\t\t\t\t#atualizando lista de data clouds\n",
        "\t\t\t\t\tAutoCloud.c = np.concatenate((AutoCloud.c[0 : i ], np.array([newCloud]), AutoCloud.c[i + 1 : j],AutoCloud.c[j + 1 : np.size(AutoCloud.c)]),axis=None)\n",
        "\t\t\t\t\t#update  intersection matrix\n",
        "\t\t\t\t\tM0 = AutoCloud.matrixIntersection\n",
        "\t\t\t\t\t#Remover linhas\n",
        "\t\t\t\t\tM1=np.concatenate((M0[0 : i , :],np.zeros((1,len(M0))),M0[i + 1 : j, :],M0[j + 1 : len(M0), :]))\n",
        "\t\t\t\t\t#remover colunas\n",
        "\t\t\t\t\tM1=np.concatenate((M1[:, 0 : i ],np.zeros((len(M1),1)),M1[:, i+1 : j],M1[:, j+1 : len(M0)]),axis=1)\n",
        "\t\t\t\t\t#calculando nova coluna\n",
        "\t\t\t\t\tcol = (M0[:, i] + M0[:, j])*(M0[: , i]*M0[:, j] != 0)\n",
        "\t\t\t\t\tcol = np.concatenate((col[0 : j], col[j + 1 : np.size(col)]))\n",
        "\t\t\t\t\t#calculando nova linha\n",
        "\t\t\t\t\tlin = (M0[i, :]+M0[j, :])*(M0[i, :]*M0[j, :] != 0)\n",
        "\t\t\t\t\tlin = np.concatenate((lin[ 0 : j], lin[j + 1 : np.size(lin)]))\n",
        "\t\t\t\t\t#atualizando coluna\n",
        "\t\t\t\t\tM1[:,i]=col\n",
        "\t\t\t\t\t#atualizando linha\n",
        "\t\t\t\t\tM1[i,:]=lin\n",
        "\t\t\t\t\tM1[i, i + 1 : j] = M0[i, i + 1 : j] + M0[i + 1 : j, j].T;\n",
        "\t\t\t\t\tAutoCloud.matrixIntersection = M1\n",
        "\t\t\t\tj += 1\n",
        "\t\t\tif(merge):\n",
        "\t\t\t\ti = 0\n",
        "\t\t\telse:\n",
        "\t\t\t\ti += 1\n",
        "\n",
        "\tdef run(self,X):\n",
        "\t\tAutoCloud.listIntersection = np.zeros((np.size(AutoCloud.c)),dtype=int)\n",
        "\t\tif AutoCloud.k==1:\n",
        "\t\t\tAutoCloud.c[0]=DataCloud(X)\n",
        "\t\t\tAutoCloud.classIndex.append(0)\n",
        "\t\telif AutoCloud.k==2:\n",
        "\t\t\tAutoCloud.c[0].addDataClaud(X)\n",
        "\t\t\tAutoCloud.classIndex.append(0)\n",
        "\t\telif AutoCloud.k>=3:\n",
        "\t\t\ti=0\n",
        "\t\t\tcreateCloud = True\n",
        "\t\t\tAutoCloud.alfa = np.zeros((np.size(AutoCloud.c)),dtype=float)\n",
        "\t\t\tfor data in AutoCloud.c:\n",
        "\t\t\t\tn= data.n +1\n",
        "\t\t\t\tmean = ((n-1)/n)*data.mean + (1/n)*X\n",
        "\t\t\t\tvariance = ((n-1)/n)*data.variance +(1/n)*((np.linalg.norm(X-mean))**2)\n",
        "\t\t\t\teccentricity = (1/n)+((mean-X).T.dot(mean-X))/(n*variance)\n",
        "\t\t\t\ttypicality = 1 - eccentricity\n",
        "\t\t\t\tnorm_eccentricity = eccentricity/2\n",
        "\t\t\t\tnorm_typicality = typicality/(AutoCloud.k-2)\n",
        "\t\t\t\tdata.eccAn = eccentricity\n",
        "\t\t\t\tif(norm_eccentricity<=(AutoCloud.m**2 +1)/(2*n)):\n",
        "\t\t\t\t\tdata.updateDataCloud(n,mean,variance)\n",
        "\t\t\t\t\tAutoCloud.alfa[i] = norm_typicality\n",
        "\t\t\t\t\tcreateCloud= False\n",
        "\t\t\t\t\tAutoCloud.listIntersection[i] = 1\n",
        "\t\t\t\telse:\n",
        "\t\t\t\t\tAutoCloud.alfa[i] = 0\n",
        "\t\t\t\t\tAutoCloud.listIntersection[i] = 0\n",
        "\t\t\t\ti+=1\n",
        "\n",
        "\t\t\tif(createCloud):\n",
        "\t\t\t\tAutoCloud.c = np.append(AutoCloud.c,DataCloud(X))\n",
        "\t\t\t\tAutoCloud.listIntersection = np.insert(AutoCloud.listIntersection,i,1)\n",
        "\t\t\t\tAutoCloud.matrixIntersection = np.pad(AutoCloud.matrixIntersection, ((0,1),(0,1)), 'constant', constant_values=(0))\n",
        "\t\t\tself.mergeClouds()\n",
        "\t\t\tAutoCloud.relevanceList = AutoCloud.alfa /np.sum(AutoCloud.alfa)\n",
        "\t\t\tclassIndex = np.argmax(AutoCloud.relevanceList)\n",
        "\t\t\tAutoCloud.classIndex.append(classIndex)\n",
        "\n",
        "\n",
        "\t\tAutoCloud.k=AutoCloud.k+1\n"
      ]
    },
    {
      "cell_type": "markdown",
      "metadata": {
        "id": "j4gc7EZXfH1r"
      },
      "source": [
        "##S1"
      ]
    },
    {
      "cell_type": "code",
      "execution_count": null,
      "metadata": {},
      "outputs": [],
      "source": [
        "df = pd.read_csv('centroides_s1.csv',header = None, sep =' ')\n",
        "df"
      ]
    },
    {
      "cell_type": "code",
      "execution_count": null,
      "metadata": {
        "id": "y5AZmlwFgOIN"
      },
      "outputs": [],
      "source": [
        "#importar centroides s2\n",
        "centroides_s2 = pd.read_csv('centroides_s1.csv',header=None,sep=\" \")\n",
        "c_a1 = np.array([centroides_s2.iloc[:,0].values,centroides_s2.iloc[:,1].values])"
      ]
    },
    {
      "cell_type": "code",
      "execution_count": null,
      "metadata": {},
      "outputs": [],
      "source": [
        "df = pd.read_csv('s1.csv')\n",
        "df"
      ]
    },
    {
      "cell_type": "code",
      "execution_count": null,
      "metadata": {
        "id": "JM10JhZffH1w"
      },
      "outputs": [],
      "source": [
        "#importar dados s1\n",
        "data = pd.read_csv('s1.csv')\n",
        "dados = np.array([data.iloc[:,1],data.iloc[:,2]])"
      ]
    },
    {
      "cell_type": "code",
      "execution_count": null,
      "metadata": {
        "colab": {
          "base_uri": "https://localhost:8080/",
          "height": 54
        },
        "id": "9OhKPVxuNEQj",
        "outputId": "e2723fce-0918-40b5-9559-8fe7550b8a69"
      },
      "outputs": [],
      "source": [
        "dados= dados.T\n",
        "teste=AutoCloud(2)\n",
        "for t in dados:\n",
        "    teste.run(np.array(t))\n",
        "\n"
      ]
    },
    {
      "cell_type": "code",
      "execution_count": null,
      "metadata": {
        "colab": {
          "base_uri": "https://localhost:8080/",
          "height": 678
        },
        "id": "gZAz9ytxfH11",
        "outputId": "9a27c6ee-6fe2-4249-e39b-f33e39256957"
      },
      "outputs": [],
      "source": [
        "plt.rcParams[\"figure.figsize\"] = (18,12)\n",
        "plt.grid()\n",
        "dados= dados.T\n",
        "plt.plot(dados[0],dados[1],'.g')\n",
        "plt.plot(c_a1[0],c_a1[1],'or')\n",
        "for i in range(0,np.size(teste.c)):\n",
        "    plt.plot(teste.c[i].mean[0],teste.c[i].mean[1],'x',color='black')\n",
        "plt.legend(['Amostras','Centros','Auto-Cloud'])\n",
        "plt.show()"
      ]
    },
    {
      "cell_type": "markdown",
      "metadata": {
        "id": "RtO-d2G1_JdC"
      },
      "source": [
        "##Classificação"
      ]
    },
    {
      "cell_type": "code",
      "execution_count": null,
      "metadata": {
        "colab": {
          "base_uri": "https://localhost:8080/",
          "height": 632
        },
        "id": "eLipImCU_Ns1",
        "outputId": "172d9011-e1e7-4993-f382-8e1aa930bf96"
      },
      "outputs": [],
      "source": [
        "plt.figure(figsize=(15, 10))\n",
        "data_falhas = pd.read_csv('data_falhas_2_1.csv')\n",
        "constrained_vars = [\"XMEAS%02d\" % v for v in [1,10]]\n",
        "dados_f = np.array(data_falhas[constrained_vars])\n",
        "teste=AutoCloud(2.9)\n",
        "\n",
        "for t in dados_f:\n",
        "    teste.run(np.array(t))\n",
        "sns.set(style=\"darkgrid\")\n",
        "plt.scatter(range(len(dados_f)),dados_f[:,0],color= np.asarray(listaCor[teste.classIndex]))\n",
        "plt.scatter(range(len(dados_f)),dados_f[:,1],color= np.asarray(listaCor[teste.classIndex]))\n",
        "\n",
        "legend_elements = [Line2D([0], [0],  marker= 'o' ,color= listaCor[0], label='Class 1'),\n",
        "                   Line2D([0], [0], marker='o', color=listaCor[1], label='Class 2'),\n",
        "                   Line2D([0], [0], marker='o', color=listaCor[2], label='Class 3')]\n",
        "\n",
        "plt.legend(handles=legend_elements)\n",
        "plt.show()"
      ]
    },
    {
      "cell_type": "code",
      "execution_count": null,
      "metadata": {
        "colab": {
          "base_uri": "https://localhost:8080/",
          "height": 518
        },
        "id": "1xRzANZC4AzF",
        "outputId": "833a4e4d-0d51-4d94-ce9d-ec07f3cadcb2"
      },
      "outputs": [],
      "source": [
        "plt.figure(figsize=(15, 4))\n",
        "plt.plot(dados_f)\n",
        "plt.show()\n",
        "plt.figure(figsize=(15, 4))\n",
        "plt.plot(teste.classIndex)\n",
        "plt.show()\n"
      ]
    }
  ],
  "metadata": {
    "colab": {
      "provenance": [],
      "toc_visible": true
    },
    "kernelspec": {
      "display_name": "venv",
      "language": "python",
      "name": "python3"
    },
    "language_info": {
      "codemirror_mode": {
        "name": "ipython",
        "version": 3
      },
      "file_extension": ".py",
      "mimetype": "text/x-python",
      "name": "python",
      "nbconvert_exporter": "python",
      "pygments_lexer": "ipython3",
      "version": "3.12.3"
    }
  },
  "nbformat": 4,
  "nbformat_minor": 0
}
